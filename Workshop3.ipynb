{
 "cells": [
  {
   "cell_type": "markdown",
   "metadata": {},
   "source": [
    "## CHY1610: Introduction to Scientific Computing for Chemists\n",
    "## Dr Daniel Cole\n",
    "* Room: BEDB.2.29\n",
    "* email: daniel.cole@ncl.ac.uk\n",
    "\n",
    "## Workshop 3: Conditional Statements, Data Files & Functions."
   ]
  },
  {
   "cell_type": "markdown",
   "metadata": {},
   "source": [
    "### Conditional Statements"
   ]
  },
  {
   "cell_type": "markdown",
   "metadata": {},
   "source": [
    "We saw at the end of last week that we can use `for` loops to perform repetitive operations very efficiently. Usually we will not need (or want) to perform every operation in our code on every piece of data. An important concept is the use of *conditional statements* that are used to control the flow of operations in a program. In Python, these usually use the `if...elif...else` construction (`elif` is shorthand for `else if`), and the *comparison operators* that we met in week 1:"
   ]
  },
  {
   "cell_type": "code",
   "execution_count": null,
   "metadata": {},
   "outputs": [],
   "source": [
    "a = 3\n",
    "if a < 3:\n",
    "    print('a is less than 3')\n",
    "elif a > 3:\n",
    "    print('a is greater than 3')\n",
    "else:\n",
    "    print('a must equal 3')"
   ]
  },
  {
   "cell_type": "markdown",
   "metadata": {},
   "source": [
    "Hopefully it's clear what the code is doing, try changing the value of `a`. The code following each `if` statement is only executed if the corresponding logic evaluates to `True` (e.g. `a < 3` for the first condition). Note the use of intendation and the `:` following each `if`, `elif` or `else` operator, as we saw last time for the `for` loops. "
   ]
  },
  {
   "cell_type": "markdown",
   "metadata": {},
   "source": [
    "**Example:** Write some code to check whether the measured boiling point of a substance falls in the range expected for typical hydrocarbons (between for example -100 and 250 degrees Celsius)."
   ]
  },
  {
   "cell_type": "code",
   "execution_count": null,
   "metadata": {},
   "outputs": [],
   "source": [
    "measured_temp = 300\n",
    "min_temp = -100\n",
    "max_temp = 250\n",
    "\n",
    "if measured_temp < min_temp:\n",
    "    print(\"Temperature outside expected range\")\n",
    "elif measured_temp > max_temp:\n",
    "    print(\"Temperature outside expected range\")\n",
    "else:\n",
    "    print(\"Temperature in expected range\")"
   ]
  },
  {
   "cell_type": "markdown",
   "metadata": {},
   "source": [
    "Actually, we can simplify the code above by chaining together the comparison. Note that the `if` now tests whether the measured temperature is both lower than the maximum **and** higher than the minimum expected temperature:"
   ]
  },
  {
   "cell_type": "code",
   "execution_count": null,
   "metadata": {},
   "outputs": [],
   "source": [
    "measured_temp = 30\n",
    "min_temp = -100\n",
    "max_temp = 250\n",
    "\n",
    "if max_temp > measured_temp > min_temp:\n",
    "    print(\"Temperature in expected range\")\n",
    "else:\n",
    "    print(\"Temperature outside expected range\")"
   ]
  },
  {
   "cell_type": "markdown",
   "metadata": {},
   "source": [
    "As discussed in week 1, we can also string together multiple comparisons using the `and`, `not` and `or` logic operators:"
   ]
  },
  {
   "cell_type": "code",
   "execution_count": null,
   "metadata": {},
   "outputs": [],
   "source": [
    "raining = True\n",
    "day = \"Saturday\"\n",
    "temperature = 22\n",
    "\n",
    "# check whether the conditions are right to go for a walk:\n",
    "if day == \"Saturday\" and temperature > 15 and not raining:\n",
    "    print(\"Go for a walk\")\n",
    "else:\n",
    "    print(\"Stay indoors\")"
   ]
  },
  {
   "cell_type": "markdown",
   "metadata": {},
   "source": [
    "The above code tests several conditions to test whether it's a nice day for a walk. In this case all expressions must evaluate to `True` in order for the condition to be met. In the above, we're advised to stay indoors because it's raining."
   ]
  },
  {
   "cell_type": "code",
   "execution_count": null,
   "metadata": {},
   "outputs": [],
   "source": [
    "raining = True\n",
    "day = \"Saturday\"\n",
    "temperature = 22\n",
    "\n",
    "if day == \"Saturday\" and (temperature > 15 or not raining):\n",
    "    print(\"Go for a walk\")\n",
    "else:\n",
    "    print(\"Stay indoors\")"
   ]
  },
  {
   "cell_type": "markdown",
   "metadata": {},
   "source": [
    "In this second example, we have relaxed the conditions a bit, so it only has to be warm **or** not raining in order for us to decide to go outside. Note that parentheses (brackets) have been used around the `or` test to make it clearer what we intend (and in fact they are crucial here, as otherwise `and` takes precedence over `or` and is evaluated first)."
   ]
  },
  {
   "cell_type": "markdown",
   "metadata": {},
   "source": [
    "**Question 1.** Edit the code below to allow for a walk on any day of the weekend (not just Saturday)."
   ]
  },
  {
   "cell_type": "code",
   "execution_count": null,
   "metadata": {},
   "outputs": [],
   "source": [
    "raining = True\n",
    "day = \"Sunday\"\n",
    "temperature = 22\n",
    "\n",
    "if day == \"Saturday\" and (temperature > 15 or not raining):\n",
    "    print(\"Go for a walk\")\n",
    "else:\n",
    "    print(\"Stay indoors\")"
   ]
  },
  {
   "cell_type": "code",
   "execution_count": null,
   "metadata": {},
   "outputs": [],
   "source": []
  },
  {
   "cell_type": "markdown",
   "metadata": {},
   "source": [
    "Importantly, we can embed the conditional statement inside the `for` loop to perform different operations depending on the values of the data:"
   ]
  },
  {
   "cell_type": "code",
   "execution_count": null,
   "metadata": {},
   "outputs": [],
   "source": [
    "for i in range(6):\n",
    "    # Test whether i is divisible by 2:\n",
    "    if i % 2 == 0:\n",
    "        print(i,'is even')\n",
    "    else:\n",
    "        print(i,'is odd')"
   ]
  },
  {
   "cell_type": "markdown",
   "metadata": {},
   "source": [
    "Note the various levels of indentations. The `if` statements are indented once to indicate they are inside the `for` loop. The `print` statements are indented again following the `if` statements. As a simple rule, always add an extra level of indentation following the `:` in a `for` loop or `if` statement."
   ]
  },
  {
   "cell_type": "markdown",
   "metadata": {},
   "source": [
    "A `for` loop continues for a fixed number of iterations. This is useful when we know beforehand how long we want to loop for, but this is not always the case. In contrast, we can use a `while` loop to continue for as long as some condition holds:"
   ]
  },
  {
   "cell_type": "code",
   "execution_count": null,
   "metadata": {},
   "outputs": [],
   "source": [
    "i = 0\n",
    "while i < 10:\n",
    "    print(i)\n",
    "    i += 3"
   ]
  },
  {
   "cell_type": "markdown",
   "metadata": {},
   "source": [
    "Here we continue to print `i` while the conditional statement evaluates to `True`. In the next iteration, `i=12`, and we exit from the loop. Note the importance of *initialising* `i` on the first line (in this case to zero), otherwise it would have started from whatever value the computer happens to be storing for `i`. Here are some more examples illustrating the `break`, `continue` and `else` statements:"
   ]
  },
  {
   "cell_type": "code",
   "execution_count": null,
   "metadata": {},
   "outputs": [],
   "source": [
    "i = 0\n",
    "while i < 100000:\n",
    "    i += 1\n",
    "    if ( i % 23 == 0 and i % 857 == 0 ):\n",
    "        print(i, 'is divisible by 23 and 857')\n",
    "        break"
   ]
  },
  {
   "cell_type": "markdown",
   "metadata": {},
   "source": [
    "The `break` command inside a loop immediately halts the loop once the conditional statement has been satisfied (in this case we're only interested in the smallest number that is divisible by both 23 and 857). If you remove it, the code will find all answers that satisfy the requested condition.\n",
    "\n",
    "Similarly, `continue` moves on to the next iteration in the loop, without executing the rest of the code:"
   ]
  },
  {
   "cell_type": "code",
   "execution_count": null,
   "metadata": {},
   "outputs": [],
   "source": [
    "i = 0\n",
    "while i < 10:\n",
    "    i += 1\n",
    "    if ( i % 2 == 0):\n",
    "        continue\n",
    "    print(i,'is odd')"
   ]
  },
  {
   "cell_type": "code",
   "execution_count": null,
   "metadata": {},
   "outputs": [],
   "source": [
    "list = [0, 4, 5, 8, 45]\n",
    "for i in list:\n",
    "    if i < 0:\n",
    "        print(i,'is negative')\n",
    "        break\n",
    "else:\n",
    "    print('error: cannot find any negative numbers')"
   ]
  },
  {
   "cell_type": "markdown",
   "metadata": {},
   "source": [
    "The last piece of code is designed to pick the first occurance of a negative number out of a list. Your code might depend on being able to find that number, so we have asked for an error message using the `else` statement to be printed if it cannot be found. More formally, the `else` statement can be used following a `for` loop with a `break` statement. If the `break` condition is not met during the loop, then the `else` clause is evaluated."
   ]
  },
  {
   "cell_type": "markdown",
   "metadata": {},
   "source": [
    "By now you might have noticed that there is often more than one way to perform a given task in python and the choice of method often comes down to *readability* of the code or *efficiency* (time saving when running the code). But don't worry about this too much at the moment, in this course we're focussing on producing code that works. Very rarely will you be penalised for not doing something in the most efficient way possible."
   ]
  },
  {
   "cell_type": "markdown",
   "metadata": {},
   "source": [
    "**Example.** Write some code to test whether **36563** is a prime number."
   ]
  },
  {
   "cell_type": "code",
   "execution_count": null,
   "metadata": {},
   "outputs": [],
   "source": [
    "i = 36563\n",
    "j = 1\n",
    "while j < i-1:\n",
    "    j+=1\n",
    "    if ( i % j == 0 ):\n",
    "        print(i,'is divisible by',j)\n",
    "        break\n",
    "else:\n",
    "    print(i,'is a prime number!')"
   ]
  },
  {
   "cell_type": "markdown",
   "metadata": {},
   "source": [
    "(NB if you ever get stuck in a very long or *infinite loop* in Jupyter (this would happen if we left out line 4 above), you can go to Kernel > Interrupt in the menu bar to stop the calculation.)"
   ]
  },
  {
   "cell_type": "code",
   "execution_count": null,
   "metadata": {},
   "outputs": [],
   "source": []
  },
  {
   "cell_type": "markdown",
   "metadata": {},
   "source": [
    "**Question 2.** Here is a random DNA sequence, what is the complementary DNA sequence? (The complementary bases are A,T and C,G). Include a warning to be output if the string contains any erroneous bases (i.e. not a, t, c, or g). The output should be formatted in the same way, i.e. no spaces or line breaks (see week 2 for the use of `end=''`) ```cttaccctatagtatgtctaggcagttagctgtctaccatgccgcagacttatcagttcgactgcttcgagctggttaggaaagctacaccgtgtccgcg```\n",
    "*(Hint: you can loop over the characters of a string, just as you would for a list).*"
   ]
  },
  {
   "cell_type": "code",
   "execution_count": null,
   "metadata": {},
   "outputs": [],
   "source": []
  },
  {
   "cell_type": "code",
   "execution_count": null,
   "metadata": {},
   "outputs": [],
   "source": []
  },
  {
   "cell_type": "code",
   "execution_count": null,
   "metadata": {},
   "outputs": [],
   "source": []
  },
  {
   "cell_type": "markdown",
   "metadata": {},
   "source": [
    "### File Input / Output\n",
    "\n",
    "We don't usually want to copy data in/out of our python programs by hand, so usually we will want to read some input data from a file and/or write some edited data to an output file."
   ]
  },
  {
   "cell_type": "code",
   "execution_count": null,
   "metadata": {},
   "outputs": [],
   "source": [
    "f = open('myfile.txt', 'w')\n",
    "f.close()"
   ]
  },
  {
   "cell_type": "markdown",
   "metadata": {},
   "source": [
    "The above code snippet opens a file for writing (denoted by the `'w'` character). This will create a new file (or over-write a file with the same name) in the directory where this Jupyter notebook sits (e.g. your OneDrive). Note that we have also closed the file, but this will also happen automatically when the program terminates. We can re-direct the output of the `print` command to our file:"
   ]
  },
  {
   "cell_type": "code",
   "execution_count": null,
   "metadata": {},
   "outputs": [],
   "source": [
    "f = open('myfile.txt', 'w')\n",
    "print('Hello World!', file=f)\n",
    "f.close()"
   ]
  },
  {
   "cell_type": "markdown",
   "metadata": {},
   "source": [
    "Check that the file `myfile.txt` has been written to your directory and contains the printed text."
   ]
  },
  {
   "cell_type": "code",
   "execution_count": null,
   "metadata": {},
   "outputs": [],
   "source": []
  },
  {
   "cell_type": "markdown",
   "metadata": {},
   "source": [
    "**Example.** Recall that last week we used a `for` loop to calculate the change in concentration of a reactant A with time. Here is the code block again, where this time I have modified the last line to print the time and final concentration to a file `data.csv` (I have also shortened the time step so we don't have too much data to print later):"
   ]
  },
  {
   "cell_type": "code",
   "execution_count": null,
   "metadata": {},
   "outputs": [],
   "source": [
    "# set initial concentration [A]_0 and rate constant:\n",
    "conc_a = 1.0 # mol/L\n",
    "k = 0.1 # s^-1\n",
    "\n",
    "f = open('data.csv', 'w')\n",
    "\n",
    "# discrete time step to use (in seconds):\n",
    "timestep = 0.01\n",
    "\n",
    "# total time (in seconds):\n",
    "tot_time = 10\n",
    "\n",
    "# iterate over the required number of time steps:\n",
    "for i in range(int(tot_time / timestep)):\n",
    "    change_in_a = -k * conc_a * timestep # change in concentration of [A]\n",
    "    conc_a += change_in_a # update new concentration of [A]\n",
    "\n",
    "# print final answer after loop has terminated:\n",
    "print(tot_time, conc_a, sep=',', file=f)\n",
    "f.close()"
   ]
  },
  {
   "cell_type": "markdown",
   "metadata": {},
   "source": [
    "Check the code works and you get the expected output printed to `data.csv`. Note that I have used `sep=','` here to separate the data by a comma (rather than a space). This will make the file read-able by Excel later on."
   ]
  },
  {
   "cell_type": "code",
   "execution_count": null,
   "metadata": {},
   "outputs": [],
   "source": []
  },
  {
   "cell_type": "markdown",
   "metadata": {},
   "source": [
    "**Question 3.** Change the code above to instead write the concentration `conc_a` and time (in seconds) to a file every 10 time steps. *(Hints: You will need to move the `print` statement inside the `for` loop, think about how to calculate the time from the step counter `i`, and use the `%` mathematical operator to only output every 10th step).*"
   ]
  },
  {
   "cell_type": "code",
   "execution_count": null,
   "metadata": {},
   "outputs": [],
   "source": []
  },
  {
   "cell_type": "code",
   "execution_count": null,
   "metadata": {},
   "outputs": [],
   "source": []
  },
  {
   "cell_type": "markdown",
   "metadata": {},
   "source": [
    "**(Not assessed).** Check that you can open your new `data.csv` file in Excel, and plot the decay in concentration with time. Note that we will cover how to do this in the Jupyter notebook, without exporting to Excel, next week."
   ]
  },
  {
   "cell_type": "code",
   "execution_count": null,
   "metadata": {},
   "outputs": [],
   "source": []
  },
  {
   "cell_type": "markdown",
   "metadata": {},
   "source": [
    "Similarly, we can read in the data from a file one line at a time using the `readline()` command, or all at once using `readlines()`. Let's first write a new file to experiment with:"
   ]
  },
  {
   "cell_type": "code",
   "execution_count": null,
   "metadata": {},
   "outputs": [],
   "source": [
    "f2 = open('data_forreading.dat', 'w')\n",
    "\n",
    "# list of (arbitrary) data for storing:\n",
    "data = [3.4, 2.6, 4.7, 5.0, 9.5]\n",
    "\n",
    "# print line numbers and data to file:\n",
    "for i in range(5):\n",
    "    print('Line {0} {1}'.format(i, data[i]), file=f2)\n",
    "f2.close()"
   ]
  },
  {
   "cell_type": "markdown",
   "metadata": {},
   "source": [
    "And now read from the file, one line at a time:"
   ]
  },
  {
   "cell_type": "code",
   "execution_count": null,
   "metadata": {},
   "outputs": [],
   "source": [
    "f2 = open('data_forreading.dat', 'r')\n",
    "# print first line:\n",
    "print(f2.readline())\n",
    "# print second line:\n",
    "print(f2.readline())\n",
    "f2.close()"
   ]
  },
  {
   "cell_type": "markdown",
   "metadata": {},
   "source": [
    "(Note in the above that as well as the data on the line, `readline()` also reads that there is a new line at the end of each line. Hence, when `print()` adds another new line, we end up with the behaviour above)."
   ]
  },
  {
   "cell_type": "markdown",
   "metadata": {},
   "source": [
    "Just like a string or a list, we can extract the entire contents of a file using `readlines()` and then loop over it one line at a time:"
   ]
  },
  {
   "cell_type": "code",
   "execution_count": null,
   "metadata": {},
   "outputs": [],
   "source": [
    "f2 = open('data_forreading.dat', 'r')\n",
    "for line in f2.readlines():\n",
    "    print(line, end='')\n",
    "f2.close()"
   ]
  },
  {
   "cell_type": "markdown",
   "metadata": {},
   "source": [
    "In the example above we have used a `for` loop to iterate over the contents of the file. Note that the `end=''` argument above is used to now avoid adding a second new line after each line of the file."
   ]
  },
  {
   "cell_type": "markdown",
   "metadata": {},
   "source": [
    "**Example.** Take the file `data_forreading.dat` and use it to output the square of the data on each line."
   ]
  },
  {
   "cell_type": "code",
   "execution_count": null,
   "metadata": {},
   "outputs": [],
   "source": [
    "f2 = open('data_forreading.dat', 'r')\n",
    "for line in f2.readlines():\n",
    "    # create a list of substrings:\n",
    "    fields = line.split(\" \")\n",
    "    print('The square of the input data on line {0} is \\\n",
    "{1:6.3f}'.format(fields[1], float(fields[2])**2))\n",
    "\n",
    "f2.close()"
   ]
  },
  {
   "cell_type": "markdown",
   "metadata": {},
   "source": [
    "This example illustrates an important point. The data is read in as a type `string`. This is useful as it means we can perform operations like `split(\" \")` (see Week 2). This splits the string into substrings that were separated by a blank space (`\" \"`). We can then operate on elements of the data separately, so e.g. `fields[1]` contains the line number and `fields[2]` contains the data. Note that `fields[2]` is still a string so we need to convert it into a floating point number before peforming maths on it `float(fields[2])`."
   ]
  },
  {
   "cell_type": "code",
   "execution_count": null,
   "metadata": {},
   "outputs": [],
   "source": []
  },
  {
   "cell_type": "code",
   "execution_count": null,
   "metadata": {},
   "outputs": [],
   "source": []
  },
  {
   "cell_type": "markdown",
   "metadata": {},
   "source": [
    "### Functions\n",
    "\n",
    "Once your code starts getting longer, *functions* are invaluable for making sure you are not continually having to re-use code and for breaking down complex problems into more manageable chunks. A function is a set of statements that can be called from anywhere in your code. A function is defined using the `def` statement:"
   ]
  },
  {
   "cell_type": "code",
   "execution_count": null,
   "metadata": {},
   "outputs": [],
   "source": [
    "def sum(a, b):\n",
    "    sum_ab = a + b\n",
    "    return sum_ab\n",
    "\n",
    "print(sum(14, 19))"
   ]
  },
  {
   "cell_type": "markdown",
   "metadata": {},
   "source": [
    "Following the `def` statement, there is a function name and the *arguments* (a,b) that the function expects to receive. \n",
    "\n",
    "The function itself is indented following the colon `:`, and the `return` statement specifies what information should be returned to the main code. The function can be called any number of times with different arguments.\n",
    "\n",
    "In the above case, the function `sum` is called on the last line. The arguments `a` and `b` are set to 14 and 19 respectively, and the function returns the sum of the two arguments (33)."
   ]
  },
  {
   "cell_type": "code",
   "execution_count": null,
   "metadata": {},
   "outputs": [],
   "source": [
    "import math\n",
    "def roots(a, b, c):\n",
    "    \"\"\"Return the roots of ax^2 + bx + c\"\"\"\n",
    "    d = b * b - 4 * a * c\n",
    "    r1 = (-b + math.sqrt(d)) / (2 * a)\n",
    "    r2 = (-b - math.sqrt(d)) / (2 * a)\n",
    "    return r1, r2"
   ]
  },
  {
   "cell_type": "code",
   "execution_count": null,
   "metadata": {},
   "outputs": [],
   "source": [
    "print(roots.__doc__)\n",
    "a = 1\n",
    "b = -1\n",
    "c = -6\n",
    "roots(a, b, c)"
   ]
  },
  {
   "cell_type": "markdown",
   "metadata": {},
   "source": [
    "In the above example, we are calculating the solutions to the equation: ax$^2$ + bx + c = 0. Note that the function returns two values inside a *tuple* (the positive and negative roots of the equation). We have also used a `docstring` as the first line of the function, enclosed in three quotation marks. The docstring gives information on how to use the function, which arguments should be provided, and what values are returned. This can be printed later (as in the next code block) and used as a basis for documenting your code."
   ]
  },
  {
   "cell_type": "markdown",
   "metadata": {},
   "source": [
    "Note also that in the `roots` function, we have defined the variable `d` inside the function. We say that `d` is a *local* variable, while for example `a` and `b` defined above are *global* variables (that is, they are available everywhere in the program). That is all fine, but just note that `d` is undefined outside the function, e.g. if we try to print it we get an error:"
   ]
  },
  {
   "cell_type": "code",
   "execution_count": null,
   "metadata": {},
   "outputs": [],
   "source": [
    "print(a)\n",
    "print(b)\n",
    "print(c)\n",
    "print(d)"
   ]
  },
  {
   "cell_type": "code",
   "execution_count": null,
   "metadata": {},
   "outputs": [],
   "source": []
  },
  {
   "cell_type": "code",
   "execution_count": null,
   "metadata": {},
   "outputs": [],
   "source": []
  },
  {
   "cell_type": "markdown",
   "metadata": {},
   "source": [
    "**Question 4.** Use the function below to calculate the equilibrium constant for the reaction:\n",
    "\n",
    "$$2\\text{H}_2\\text{(g)} + \\text{O}_2\\text{(g)} \\rightarrow 2\\text{H}_2\\text{O(g)} $$\n",
    "\n",
    "from the following data:\n",
    "\n",
    "| Component | $\\Delta_fH$ / kJmol$^{-1}$ | $S$ / kJmol$^{-1}$K$^{-1}$ |\n",
    "| --- | --- | --- |\n",
    "| O$_2$ | 0 | 0.2050 |\n",
    "| H$_2$ | 0 | 0.1307 |\n",
    "| H$_2$O | -241.8 | 0.1888 |\n",
    "\n",
    "Make use of a loop to perform your calculation at five different temperatures (300K, 310K, 320K, 330K, 340K). *(Hint: I have included comments in the cell below to help you).*\n"
   ]
  },
  {
   "cell_type": "code",
   "execution_count": null,
   "metadata": {},
   "outputs": [],
   "source": [
    "def equilibrium_constant(deltaH_products, deltaH_reactants, S_products, S_reactants, T):\n",
    "    \"\"\"Return equilibrium constant from enthalpy/entropy of \n",
    "    reactants/products at given temperature\"\"\"\n",
    "    deltaH = deltaH_products - deltaH_reactants\n",
    "    deltaS = S_products - S_reactants\n",
    "    Gibbs_free_energy = deltaH - T * deltaS\n",
    "    K = math.exp(-1.0 * Gibbs_free_energy/(R * T))\n",
    "    return K"
   ]
  },
  {
   "cell_type": "code",
   "execution_count": null,
   "metadata": {},
   "outputs": [],
   "source": [
    "import math\n",
    "\n",
    "# define global variable (universal gas constant):\n",
    "R = 8.3144626181 * 1e-3 # kJ/K/mol\n",
    "\n",
    "# calculate total enthalpy & entropy changes\n",
    "# of reactants and products (remember that we \n",
    "# need 2 moles of H2 and H2O for every mole of O2):\n",
    "\n",
    "\n",
    "# use a loop to calculate K at 5 different temperatures:\n",
    "\n"
   ]
  },
  {
   "cell_type": "code",
   "execution_count": null,
   "metadata": {},
   "outputs": [],
   "source": []
  },
  {
   "cell_type": "code",
   "execution_count": null,
   "metadata": {},
   "outputs": [],
   "source": []
  },
  {
   "cell_type": "markdown",
   "metadata": {},
   "source": [
    "### Learning outcomes"
   ]
  },
  {
   "cell_type": "markdown",
   "metadata": {},
   "source": [
    "In today's workshop, you have learned how to:\n",
    "* Use **conditional** statements to control flow through our code;\n",
    "* **Read** and **write** from data files;\n",
    "* Define **functions** to simplify our code."
   ]
  }
 ],
 "metadata": {
  "kernelspec": {
   "display_name": "Python 3",
   "language": "python",
   "name": "python3"
  },
  "language_info": {
   "codemirror_mode": {
    "name": "ipython",
    "version": 3
   },
   "file_extension": ".py",
   "mimetype": "text/x-python",
   "name": "python",
   "nbconvert_exporter": "python",
   "pygments_lexer": "ipython3",
   "version": "3.7.6"
  }
 },
 "nbformat": 4,
 "nbformat_minor": 2
}
