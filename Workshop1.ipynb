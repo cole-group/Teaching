{
 "cells": [
  {
   "cell_type": "markdown",
   "metadata": {},
   "source": [
    "# CHY1610: Introduction to Scientific Computing for Chemists\n",
    "## Dr Daniel Cole\n",
    "* Room: BEDB.2.29\n",
    "* email: daniel.cole@ncl.ac.uk\n",
    "\n",
    "## Workshop 1: Python basics & the Jupyter notebook.\n",
    "\n",
    "### Introduction\n",
    "\n",
    "What is a computer program? A program is a set of instructions that tell the computer what to do. It can be viewed as an interface between the human (computer programmer) and the computer's machine code. Examples include:\n",
    "* Word processors (e.g. Word);\n",
    "* Web browsers (e.g. Chrome);\n",
    "* Operating systems (e.g. MacOS, Windows);\n",
    "* Video games (e.g. Tetris, Fortnite);\n",
    "* Scientific software, which you will meet during your studies.\n",
    "\n",
    "For example, here is the [Apollo 11 guidance source code](https://github.com/chrislgarry/Apollo-11) that landed humans on the moon. Just as humans use many different languages for communication, there also many different *programming languages* that we can use to communicate with the computer. The programming language that we will be using in this module is called *python*.\n",
    "\n",
    "#### Further Reading\n",
    "\n",
    "The course textbook for this module is Learning Scientific Programming with Python, Christian Hill (Cambridge University Press), which is available online from the University library [here](https://app.knovel.com/web/toc.v/cid:kpLSPP0001/viewerType:toc/). You can also access the textbook through the course reading list on Canvas. I will highlight relevant chapters each week. I will also supply further web links as we go along, but an important skill for a programmer is to be able to find the answer to a problem online. Python is so widely used that I guarantee that the answer is out there. Just enter \"Python\" plus whatever concept you would like to read more about into a search engine."
   ]
  },
  {
   "cell_type": "markdown",
   "metadata": {},
   "source": [
    "#### Why python?\n",
    "\n",
    "Python is a high-level programming language, with an expressive, relatively intuitive syntax. Compare below the two programs for printing a list of names, the first in python and the second in C (another programming language). Don't worry at this stage about the details, but just note that you can probably already see what the python code is doing. On the other hand, we have to put in a lot of effort with C explicitly setting up and defining the task."
   ]
  },
  {
   "cell_type": "code",
   "execution_count": null,
   "metadata": {},
   "outputs": [],
   "source": [
    "names = [ 'Isaac Newton', 'Marie Curie', 'Albert Einstein' ]\n",
    "for name in names:\n",
    "    print(name)"
   ]
  },
  {
   "cell_type": "markdown",
   "metadata": {},
   "source": [
    "The equivalent code in C might look like this:\n",
    "```\n",
    "#include <stdio.h>\n",
    "#include <stdlib.h>\n",
    "#include <string.h>\n",
    "#define MAX_STRING_LENGTH 20\n",
    "#define NUMBER_OF_STRINGS 3\n",
    "\n",
    "int main()\n",
    "{\n",
    "int i;\n",
    "char names[NUMBER_OF_STRINGS][MAX_STRING_LENGTH+1];\n",
    "strcpy(names[0], \"Isaac Newton\");\n",
    "strcpy(names[1], \"Marie Curie\");\n",
    "strcpy(names[2], \"Albert Einstein\");\n",
    "\n",
    "for (i=0;i<NUMBER_OF_STRINGS;i++) {\n",
    "    fprintf(stdout, \"%s\\n\", names[i]);\n",
    "}\n",
    "\n",
    "return EXIT_SUCCESS;\n",
    "}\n",
    "\n",
    "```"
   ]
  },
  {
   "cell_type": "markdown",
   "metadata": {},
   "source": [
    "Python is **free**, you should be able to install everything we meet here on your own computers/laptops/tablets (see the induction materials for instructions). Coding in python is generally faster, and easier to learn and code (less likely to introduce **bugs**, though we will meet plenty later in the course). On the other hand, the speed of running a Python code is not usually as high as some other languages (e.g. C, Fortran), but that won't be an issue here.\n",
    "\n",
    "\n",
    "\n",
    "#### Installing Python\n",
    "\n",
    "Presumably if you are reading this, you have already accessed Python either via Newcastle University's Windows Virtual Desktop (WVD), or by installing it yourself, but I include this section for completeness. Python can be downloaded from [here](https://www.python.org) and installed on all operating systems. You might find the [Anaconda](https://www.anaconda.com/distribution/) distribution more useful as it comes with all of the libraries that you might need (see later). You might also come across the term *Integrated Development Environment (IDE)*, which is a tool that allows you to write, edit, test and debug code. IDLE and PyCharm are examples, though we won't be using them here.\n",
    "\n",
    "\n",
    "\n",
    "#### The Jupyter Notebook\n",
    "\n",
    "[Jupyter](http://jupyter4edu.github.io/jupyter-edu-book/) is an interactive notebook (such as this one) that can be accessed via a web browser. It allows us to mix code, visualisation and explanatory text; it is therefore more interactive than a textbook, and more easy to follow than 100's of lines of code. It is not just used for education, it is increasingly used to share research data and ensure it is *reproducible* (anyone should be able to download a Jupyter notebook acoompanying a piece of research, and reproduce the data).\n",
    "\n",
    "You can (and should) save your work as you go, using the menu at the top: `File > Save and Checkpoint`. This should save your own modified version of this Notebook to your OneDrive (if using the WVD) or your own computer.\n",
    "\n",
    "You can also download your notebook in a range of formats. HTML is probably the most useful for us: `File > Download as > HTML (.html)`. This can be opened later in a web browser, though note that you will lose the interactive element.\n",
    "\n",
    "See Appendix A at the bottom of this Workshop for more information on entering text and code into the Jupyter notebook."
   ]
  },
  {
   "cell_type": "markdown",
   "metadata": {},
   "source": [
    "#### Assignments\n",
    "\n",
    "Throughout this notebook, you will find a series of questions, marked **Question 1**, etc. Fill in your answer to *every* question on the separate notebook provided (**answersheet-CHY1610.ipynb**). These will be submitted after the end of Workshop 4.\n",
    "\n",
    "There are additional points in this Notebook where you are invited to practice what you've learned. You should feel free to experiment and make changes to this Notebook, it will not be marked. The original notebook can always be downloaded again from Canvas if needed."
   ]
  },
  {
   "cell_type": "markdown",
   "metadata": {},
   "source": [
    "### Python Basics\n",
    "\n",
    "Types of data (more details on some of these will follow later):\n",
    "* **integer** (e.g. 1, 5, -34)\n",
    "* **floating point number** (e.g. 3.14, 6.022e23)\n",
    "* **strings** are characters enclosed in quotes (e.g. \"coding is fun\")\n",
    "* **Boolean** operators (i.e. True or False)\n",
    "\n",
    "\n",
    "The **print** command can be used to display any of the above data types on your screen. To execute the cell below, select it (i.e. click inside the cell), then press the **Run** button on the menu above (or press **SHIFT+ENTER** on your keyboard)."
   ]
  },
  {
   "cell_type": "code",
   "execution_count": null,
   "metadata": {},
   "outputs": [],
   "source": [
    "print (\"hello world\")"
   ]
  },
  {
   "cell_type": "markdown",
   "metadata": {},
   "source": [
    "We have just run our first piece of code in which we have printed the phrase \"hello world\" to the screen. You can change the phrase inside the quotation marks to print different statements.\n",
    "\n",
    "Typing numbers in the cell below, simply returns the number. Experiment with printing numbers (both integer and floating point, including scientific notation):"
   ]
  },
  {
   "cell_type": "code",
   "execution_count": null,
   "metadata": {},
   "outputs": [],
   "source": [
    "5.0"
   ]
  },
  {
   "cell_type": "markdown",
   "metadata": {},
   "source": [
    "We can convert numbers between integers and floating point numbers, using the `int` and `float` functions (note that floating point numbers are rounded down):"
   ]
  },
  {
   "cell_type": "code",
   "execution_count": null,
   "metadata": {},
   "outputs": [],
   "source": [
    "int(4.7)"
   ]
  },
  {
   "cell_type": "code",
   "execution_count": null,
   "metadata": {},
   "outputs": [],
   "source": [
    "float(3)"
   ]
  },
  {
   "cell_type": "markdown",
   "metadata": {},
   "source": [
    "**Question 1.** Describe what effect the `abs` and `round` functions have on positive and negative integers and floating point numbers. Illustrate your answer with some code examples. Enter your answer on the separate answer sheet provided."
   ]
  },
  {
   "cell_type": "code",
   "execution_count": null,
   "metadata": {},
   "outputs": [],
   "source": [
    "round(4.7)"
   ]
  },
  {
   "cell_type": "code",
   "execution_count": null,
   "metadata": {},
   "outputs": [],
   "source": []
  },
  {
   "cell_type": "markdown",
   "metadata": {},
   "source": [
    "We can also print results of arithmetic operations (like a calculator), or mixtures of data (separated by a comma):"
   ]
  },
  {
   "cell_type": "code",
   "execution_count": null,
   "metadata": {},
   "outputs": [],
   "source": [
    "print (5+10)"
   ]
  },
  {
   "cell_type": "code",
   "execution_count": null,
   "metadata": {},
   "outputs": [],
   "source": [
    "print (\"The result of summing 5 and 10 is\", 5+10 )"
   ]
  },
  {
   "cell_type": "code",
   "execution_count": null,
   "metadata": {},
   "outputs": [],
   "source": []
  },
  {
   "cell_type": "markdown",
   "metadata": {},
   "source": [
    "**Question 2.** Write some code that prints the following output `My age is 65`."
   ]
  },
  {
   "cell_type": "code",
   "execution_count": null,
   "metadata": {},
   "outputs": [],
   "source": []
  },
  {
   "cell_type": "code",
   "execution_count": null,
   "metadata": {},
   "outputs": [],
   "source": []
  },
  {
   "cell_type": "markdown",
   "metadata": {},
   "source": [
    "Common arithmetic operators that you may need are: `+`, `-`, `*`, `/`.\n",
    "\n",
    "For calculating exponents, use `**`, e.g. `2**3 = 8`. \n",
    "\n",
    "For integer division (i.e. dividing two integers to return another integer), use `//`, e.g. `30 // 4 = 7`\n",
    "\n",
    "For modulus (i.e. finding the remainder following a division), use `%`, e.g. `30 % 4 = 2`\n",
    "\n",
    "Practice using these operators in the cell below."
   ]
  },
  {
   "cell_type": "code",
   "execution_count": null,
   "metadata": {},
   "outputs": [],
   "source": [
    "30 % 4"
   ]
  },
  {
   "cell_type": "code",
   "execution_count": null,
   "metadata": {},
   "outputs": [],
   "source": []
  },
  {
   "cell_type": "markdown",
   "metadata": {},
   "source": [
    "**Question 3.** I have 28 mL of a solution and 5 test tubes. I want to use as much solution as possible, and I want each test tube to have the same (integer) mL of solution. What volume of solution do I have left after sharing it out? Write some code to calculate the answer."
   ]
  },
  {
   "cell_type": "code",
   "execution_count": null,
   "metadata": {},
   "outputs": [],
   "source": []
  },
  {
   "cell_type": "code",
   "execution_count": null,
   "metadata": {},
   "outputs": [],
   "source": []
  },
  {
   "cell_type": "markdown",
   "metadata": {},
   "source": [
    "What is the result of evaluating `2 + 3 * 4`? We need to know the *operator precedence*. In this case, the multiplication takes precedence and happens first. How would you re-write this expression to return an output of `20`? The answer is to use parentheses `()`, as shown below. In general it is safest to use parentheses in your calculations. In the cells below, predict and evaluate a few calculations like the one above, including addition, subtraction, multiplication and division:"
   ]
  },
  {
   "cell_type": "code",
   "execution_count": null,
   "metadata": {},
   "outputs": [],
   "source": [
    "(2 + 3) * 4"
   ]
  },
  {
   "cell_type": "code",
   "execution_count": null,
   "metadata": {},
   "outputs": [],
   "source": []
  },
  {
   "cell_type": "code",
   "execution_count": null,
   "metadata": {},
   "outputs": [],
   "source": []
  },
  {
   "cell_type": "markdown",
   "metadata": {},
   "source": [
    "**Question 4**. A spherical cannon ball weighs 3kg. If the density of the metal is 7.874 g/cm$^3$, calculate its volume (in cm$^3$). Insert your code in the cell below."
   ]
  },
  {
   "cell_type": "code",
   "execution_count": null,
   "metadata": {},
   "outputs": [],
   "source": [
    "print (\"The volume of the cannon ball is\",  )"
   ]
  },
  {
   "cell_type": "code",
   "execution_count": null,
   "metadata": {},
   "outputs": [],
   "source": []
  },
  {
   "cell_type": "markdown",
   "metadata": {},
   "source": [
    "The above arithmetic operators (or *functions*) are loaded with Python, but these 'in-built' functions are kept to a minimum to save on memory and optimise performance. Some more complex operators require us to import Python's **math** module. This allows us to use functions such as `sqrt()` and `exp()`:"
   ]
  },
  {
   "cell_type": "code",
   "execution_count": null,
   "metadata": {},
   "outputs": [],
   "source": [
    "import math\n",
    "print (math.exp(2), math.sqrt(9))"
   ]
  },
  {
   "cell_type": "markdown",
   "metadata": {},
   "source": [
    "A full list of available functions may be found [here](https://docs.python.org/3.2/library/math.html). Some that you might find useful include:\n",
    "```\n",
    "math.log(x)\n",
    "math.log10(x)\n",
    "math.sin(x)\n",
    "math.cos(x)\n",
    "math.degrees(x)\n",
    "math.radians(x)\n",
    "math.hypot(x, y)\n",
    "math.pi\n",
    "math.e\n",
    "```\n",
    "Investigate their behaviour in the cell below (note that the trigonometric functions assume `x` is in radians."
   ]
  },
  {
   "cell_type": "code",
   "execution_count": null,
   "metadata": {},
   "outputs": [],
   "source": [
    "import math\n",
    "print(math.hypot(3,4))"
   ]
  },
  {
   "cell_type": "code",
   "execution_count": null,
   "metadata": {},
   "outputs": [],
   "source": []
  },
  {
   "cell_type": "markdown",
   "metadata": {},
   "source": [
    "**Question 5**. The concentration of H$^+$ ions in a sample of vinegar is 1.26 x 10$^{-3}$ M. What is the pH of the solution?"
   ]
  },
  {
   "cell_type": "code",
   "execution_count": null,
   "metadata": {},
   "outputs": [],
   "source": [
    "import math\n",
    "print(\"The pH is\", )"
   ]
  },
  {
   "cell_type": "code",
   "execution_count": null,
   "metadata": {},
   "outputs": [],
   "source": []
  },
  {
   "cell_type": "code",
   "execution_count": null,
   "metadata": {},
   "outputs": [],
   "source": []
  },
  {
   "cell_type": "markdown",
   "metadata": {},
   "source": [
    "### Variables"
   ]
  },
  {
   "cell_type": "markdown",
   "metadata": {},
   "source": [
    "Up to now, we haven't done much that isn't possible on a calculator. Once we print an answer to the screen, Python doesn't need it anymore and deletes it from memory. To perform more complex calculations, we need to store objects for later use. These are called *variables*. For example:"
   ]
  },
  {
   "cell_type": "code",
   "execution_count": null,
   "metadata": {},
   "outputs": [],
   "source": [
    "a = 2\n",
    "b = 7.4\n",
    "c = a * b\n",
    "print(c)"
   ]
  },
  {
   "cell_type": "markdown",
   "metadata": {},
   "source": [
    "Some notes on variable names:\n",
    "* They are case sensitive (`a` is different to `A`);\n",
    "* Can use numbers, and underscore, but don't start with these characters. (e.g. `max_height`, `volume_2` are fine);\n",
    "* Good practice to be descriptive, but not too long (e.g. `area`, not `A` or `area_under_the_curve_4`);\n",
    "* `i`, `j`, `k` are commonly used as integer counters (see later)\n",
    "* There are certain reserved keywords, see section 2.3.1 [here](https://docs.python.org/3.3/reference/lexical_analysis.html) (e.g. cannot use `and`, `print` as variable names)."
   ]
  },
  {
   "cell_type": "markdown",
   "metadata": {},
   "source": [
    "**Example.** Find the molality of 3M hydrochloric acid (HCl). The density is 1.19 g/cm$^3$."
   ]
  },
  {
   "cell_type": "code",
   "execution_count": null,
   "metadata": {},
   "outputs": [],
   "source": [
    "# Input variables\n",
    "density = 1.19 # g/cm3\n",
    "molarity = 3 # moles per litre\n",
    "molar_mass = 36.5 # for HCl (g/mol)\n",
    "\n",
    "# Let's assume we have 1L of solution\n",
    "moles_solute = molarity * 1 # volume of 1L\n",
    "mass_total = density * 1000 # mass of solution in g\n",
    "mass_solute = molarity * molar_mass # mass of solute in g\n",
    "\n",
    "# The mass of the solvent is the difference between the mass of \n",
    "# the solute (HCl) and the total mass\n",
    "mass_solvent = mass_total - mass_solute\n",
    "\n",
    "# The molality is the moles of solute divided by the mass of solvent (in kg)\n",
    "molality = moles_solute / (mass_solvent / 1000) # divide by 1000 to convert to kg\n",
    "print(molality)"
   ]
  },
  {
   "cell_type": "markdown",
   "metadata": {},
   "source": [
    "This code is somewhat more complex than we met earlier, but we're not doing too much new (a series of mathematical operations and a `print` statement). The variables allow us to store information to use later in the calculation (e.g. `moles_solute`).\n",
    "\n",
    "Something new in the above code block is the use of *comments*. Anything starting with a `#` is ignored by Python. However, comments are crucial for producing code that can be understood by another human (or you in a week's time). Again, you could probably have performed the above calculation with a pen, paper and calculator. However, you now have a piece of code that works for *any* solution (given the molarity and density)."
   ]
  },
  {
   "cell_type": "markdown",
   "metadata": {},
   "source": [
    "**Question 6.** Using a similar calculation to the example above, find the molality of 2.5M sulphuric acid (H$_2$SO$_4$). The density is 1.25 g/cm$^3$."
   ]
  },
  {
   "cell_type": "code",
   "execution_count": null,
   "metadata": {},
   "outputs": [],
   "source": []
  },
  {
   "cell_type": "code",
   "execution_count": null,
   "metadata": {},
   "outputs": [],
   "source": []
  },
  {
   "cell_type": "code",
   "execution_count": null,
   "metadata": {},
   "outputs": [],
   "source": []
  },
  {
   "cell_type": "markdown",
   "metadata": {},
   "source": [
    "### Comparisons and Logic"
   ]
  },
  {
   "cell_type": "markdown",
   "metadata": {},
   "source": [
    "Often when coding, we will need to compare two numbers or variables. This is performed using the **comparison operators** in the table below, and the result is a *boolean* object (i.e. true `T` or false `F`):\n",
    "\n",
    "| Operator | Description |\n",
    "| --- | --- |\n",
    "| == | equal to |\n",
    "| != | not equal to |\n",
    "| > | greater than |\n",
    "| < | less than |\n",
    "| >= | greater than or equal to |\n",
    "| <= | less than or equal to |\n",
    "\n",
    "Note the use of double equal signs for testing whether two numbers are equal e.g.:"
   ]
  },
  {
   "cell_type": "code",
   "execution_count": null,
   "metadata": {},
   "outputs": [],
   "source": [
    "8 == 5"
   ]
  },
  {
   "cell_type": "markdown",
   "metadata": {},
   "source": [
    "Try some more operators out in the cell below:"
   ]
  },
  {
   "cell_type": "code",
   "execution_count": null,
   "metadata": {},
   "outputs": [],
   "source": [
    "a = 8\n",
    "b = 9\n",
    "a <= b"
   ]
  },
  {
   "cell_type": "markdown",
   "metadata": {},
   "source": [
    "We can string together multiple comparisons using **logic operators**. These are `and`, `not`, `or`. For example:"
   ]
  },
  {
   "cell_type": "code",
   "execution_count": null,
   "metadata": {},
   "outputs": [],
   "source": [
    "3.14 <= 100 and 4 < 10"
   ]
  },
  {
   "cell_type": "code",
   "execution_count": null,
   "metadata": {},
   "outputs": [],
   "source": [
    "not (3.14 <= 100 and 4 < 10)"
   ]
  },
  {
   "cell_type": "markdown",
   "metadata": {},
   "source": [
    "The operation `A and B` evaluates to `True` if both statements `A` and `B` are `True`. In the first example, 3.14 is less than 100 **and** 4 is less than 10. Therefore the result is `True`. In the second statement, the expression in brackets again evaluates to `True`, but the `not` operator reverses the outcome to `False`. \n",
    "\n",
    "We'll come to examples later in the course where this sort of comparison is useful (e.g. for testing when our code should continue to run and when it should stop).\n",
    "\n",
    "As earlier, it is safest to use parentheses when stringing together multiple comparisons to ensure that you have the intended precedence."
   ]
  },
  {
   "cell_type": "markdown",
   "metadata": {},
   "source": [
    "**Question 7.** Predict the result of the following expression, and then check it using Python. Give the result of the calculation and explain why the result is as it is.\n",
    "```\n",
    "4 < 2 or 10 % 4 < 3\n",
    "```"
   ]
  },
  {
   "cell_type": "code",
   "execution_count": null,
   "metadata": {},
   "outputs": [],
   "source": []
  },
  {
   "cell_type": "code",
   "execution_count": null,
   "metadata": {},
   "outputs": [],
   "source": []
  },
  {
   "cell_type": "markdown",
   "metadata": {},
   "source": [
    "Note the difference between `==` and `=` in what we have discussed so far today. The latter is used to assign the variable. So the code below is perfectly valid:"
   ]
  },
  {
   "cell_type": "code",
   "execution_count": null,
   "metadata": {},
   "outputs": [],
   "source": [
    "a=5\n",
    "a=a+2\n",
    "a"
   ]
  },
  {
   "cell_type": "markdown",
   "metadata": {},
   "source": [
    "As you can see, the variable `a` has been incremented by 2. Actually this is so useful that there is a shorthand command for it in Python (*augmented assignment*):"
   ]
  },
  {
   "cell_type": "code",
   "execution_count": null,
   "metadata": {},
   "outputs": [],
   "source": [
    "a = 5\n",
    "a += 2\n",
    "a"
   ]
  },
  {
   "cell_type": "code",
   "execution_count": null,
   "metadata": {},
   "outputs": [],
   "source": []
  },
  {
   "cell_type": "code",
   "execution_count": null,
   "metadata": {},
   "outputs": [],
   "source": []
  },
  {
   "cell_type": "markdown",
   "metadata": {},
   "source": [
    "### Learning Outcomes"
   ]
  },
  {
   "cell_type": "markdown",
   "metadata": {},
   "source": [
    "After today's workshop you should be able to:\n",
    "* Navigate and save a **Jupyter notebook** (see Appendix A for further details).\n",
    "* Understand how to print **numbers** and perform some simple **mathematical operations** in Python.\n",
    "* Assign **variables** and use **comparison** and **logic operators**."
   ]
  },
  {
   "cell_type": "code",
   "execution_count": null,
   "metadata": {},
   "outputs": [],
   "source": []
  },
  {
   "cell_type": "code",
   "execution_count": null,
   "metadata": {},
   "outputs": [],
   "source": []
  },
  {
   "cell_type": "markdown",
   "metadata": {},
   "source": [
    "### Appendix A: Markdown cells\n",
    "\n",
    "Markdown is a common writing standard (similar to HTML). A cell can be specified as markdown by using the dropdown menu above when the cell is created (e.g. using the `Insert` menu above). Double-click on this markdown cell to see how I've built it, and run it (SHIFT-ENTER) to display the formatted contents.\n",
    "\n",
    "\n",
    "# This is a big heading\n",
    "## This is a medium sized heading\n",
    "### This is a small heading\n",
    "\n",
    "This is some text that forms a paragraph. We can format the text, e.g. this is **bold** and __bold__, or *italic* and _italic_.\n",
    "\n",
    "Paragraphs must be separated by an empty line.\n",
    "* Sometimes we want to include lists.\n",
    "* This is a bullet point list.\n",
    "\n",
    "[Include hyperlinks like this](https://www.ncl.ac.uk/nes/research/chemistry/)\n",
    "\n",
    "We may wish to insert code into our text to explain a particular point (without allowing the user to run it). Inline code uses single backticks: `f(x) = 3x+5`, and code blocks use triple backticks:\n",
    "```\n",
    "str = \"Here is some example code\"\n",
    "print(str)\n",
    "```\n",
    "\n",
    "You can insert mathematical symbols like this: $\\sqrt{x}$, $x^2$.\n",
    "\n",
    "Table:\n",
    "\n",
    "| Column 1 | Column 2 | Column 3 |\n",
    "| --- | --- | --- |\n",
    "| Data 1 | Data 2 | Data 3 |\n",
    "\n",
    "\n",
    "And finally, we can add images like this: ![Alt text](https://logos-download.com/wp-content/uploads/2017/11/Newcastle_University_logo-700x230.png)\n",
    "\n",
    "Or from your computer by selecting 'Edit > Insert Image' in the menu bar above."
   ]
  },
  {
   "cell_type": "markdown",
   "metadata": {},
   "source": [
    "Full documentation (advanced) for the Jupyter notebook is available [here](https://jupyter-notebook.readthedocs.io/en/stable/notebook.html). Further introductory tutorials can easily be found by searching online."
   ]
  },
  {
   "cell_type": "code",
   "execution_count": null,
   "metadata": {},
   "outputs": [],
   "source": []
  }
 ],
 "metadata": {
  "kernelspec": {
   "display_name": "Python 3",
   "language": "python",
   "name": "python3"
  },
  "language_info": {
   "codemirror_mode": {
    "name": "ipython",
    "version": 3
   },
   "file_extension": ".py",
   "mimetype": "text/x-python",
   "name": "python",
   "nbconvert_exporter": "python",
   "pygments_lexer": "ipython3",
   "version": "3.7.6"
  }
 },
 "nbformat": 4,
 "nbformat_minor": 2
}
