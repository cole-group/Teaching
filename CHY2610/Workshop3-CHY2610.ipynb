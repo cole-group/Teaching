{
 "cells": [
  {
   "cell_type": "markdown",
   "id": "e5ca3186",
   "metadata": {},
   "source": [
    "# CHY2610: Scientific Computing for Chemists\n",
    "## Dr Daniel Cole\n",
    "* Room: BEDB.2.29\n",
    "* email: daniel.cole@ncl.ac.uk"
   ]
  },
  {
   "cell_type": "markdown",
   "id": "28014a11",
   "metadata": {},
   "source": [
    "## Workshop 3: The RDKit Cheminformatics Package\n",
    "\n",
    "RDKit is an [open source](https://github.com/rdkit/rdkit) cheminformatics toolkit. Cheminformatics is a broad term covering the curation and analysis of chemical data. It is perhaps most widely used in drug discovery, where Quantitative Structure-Activity Relationships (QSAR) aim to predict the effectiveness of a potential drug from its structure (e.g. by compring it to known drugs). But similar methods can also be applied to discovering new e.g. organic electronics materials.\n",
    "\n",
    "RDKit is written in the C++ language, but as we'll see most of the functionality is useable through a Python interface. It includes a collection of functionality for molecule input/output in various standard formats, as well as coordinate generation, and molecular analysis.\n",
    "\n",
    "### Further reading\n",
    "\n",
    "* [Getting started with RDKit in python](https://www.rdkit.org/docs/GettingStartedInPython.html)\n",
    "* Introductory youtube tutorials by Jan Jensen: [Tutorial 1](https://www.youtube.com/watch?v=ERvUf_lNopo&t=0s); [Tutorial 2](https://www.youtube.com/watch?v=3qzZbaUzo9M)\n",
    "* Advanced tutorials by Greg Landrum (the main RDKit developer): [Tutorial 1](https://nbviewer.jupyter.org/gist/greglandrum/4316433); [Tutorial 2](https://github.com/rdkit/rdkit-tutorials)\n",
    "* There is a very active user community, e.g. [here are the talks from the 2021 user meeting.](https://www.youtube.com/playlist?list=PLugOo5eIVY3GLxfpUykXNsPwhrs6J_PyP)"
   ]
  },
  {
   "cell_type": "markdown",
   "id": "7edd8d6c",
   "metadata": {},
   "source": [
    "### Getting Started\n",
    "\n",
    "Remember back to our work on modules and packages, in particular the Python code we use to import a module. Most of the functionality that we will be using is available in the `rdkit.Chem` module:"
   ]
  },
  {
   "cell_type": "code",
   "execution_count": null,
   "id": "64ade8ed",
   "metadata": {},
   "outputs": [],
   "source": [
    "from rdkit import Chem"
   ]
  },
  {
   "cell_type": "markdown",
   "id": "2bcbf468",
   "metadata": {},
   "source": [
    "If the above cell runs without an error, then RDKit is installed correctly on your PC.\n",
    "\n",
    "To begin, we first need to input a molecule to study. A convenient way to represent molecules in computational chemistry is as *SMILES* text. Here we use a function from the `Chem` module to convert a SMILES string (here we use butane) to a RDKit molecule. Note the use of the *dotted syntax* from last week: `<module>.<function>`"
   ]
  },
  {
   "cell_type": "code",
   "execution_count": null,
   "id": "f1635e8a",
   "metadata": {},
   "outputs": [],
   "source": [
    "mol = Chem.MolFromSmiles('CCCC')"
   ]
  },
  {
   "cell_type": "markdown",
   "id": "0b258f8f",
   "metadata": {},
   "source": [
    "If you have not met SMILES notation before, don't worry a good summary is available [here](https://en.wikipedia.org/wiki/Simplified_molecular-input_line-entry_system). You don't need to know the notation in detail, just be able to recognise that the SMILES molecular representation is being used. There is a simple website [here](https://molview.org) that allows you to draw a molecule and convert it to SMILES *[Hit the 'trash' icon to start drawing a new molecule, then go 'Tools > Information Card' to see the SMILES]*. The SMILES can usually be found in chemical databases too, for example the SMILES notation for aspirin is given in the pubchem database [here](https://pubchem.ncbi.nlm.nih.gov/compound/Aspirin#section=Canonical-SMILES). There is a nice blog post [here](https://molecularmodelingbasics.blogspot.com/2016/05/a-brief-introduction-to-smiles-and-inchi.html) giving an introduction to SMILES."
   ]
  },
  {
   "cell_type": "markdown",
   "id": "7e44eacf",
   "metadata": {},
   "source": [
    "The RDKit molecule object can be displayed simply by typing the name we've assigned to it:"
   ]
  },
  {
   "cell_type": "code",
   "execution_count": null,
   "id": "57cc885e",
   "metadata": {},
   "outputs": [],
   "source": [
    "mol"
   ]
  },
  {
   "cell_type": "markdown",
   "id": "3b696883",
   "metadata": {},
   "source": [
    "In this case the four carbon atoms of butane are displayed (without the hydrogen atoms).\n",
    "\n",
    "Note that we can also convert the molecule object back to SMILES if we wish:"
   ]
  },
  {
   "cell_type": "code",
   "execution_count": null,
   "id": "f8c299c3",
   "metadata": {},
   "outputs": [],
   "source": [
    "mol_smiles = Chem.MolToSmiles(mol)\n",
    "print(mol_smiles)"
   ]
  },
  {
   "cell_type": "code",
   "execution_count": null,
   "id": "89f5abf2",
   "metadata": {},
   "outputs": [],
   "source": []
  },
  {
   "cell_type": "markdown",
   "id": "a92ab707",
   "metadata": {},
   "source": [
    "**Question 1.** Find the SMILES string for dioxane, and use RDKit to display its chemical structure."
   ]
  },
  {
   "cell_type": "code",
   "execution_count": null,
   "id": "412377ff",
   "metadata": {},
   "outputs": [],
   "source": []
  },
  {
   "cell_type": "code",
   "execution_count": null,
   "id": "84824951",
   "metadata": {},
   "outputs": [],
   "source": []
  },
  {
   "cell_type": "markdown",
   "id": "2b737555",
   "metadata": {},
   "source": [
    "Let's look at a slightly more interesting molecule now:"
   ]
  },
  {
   "cell_type": "code",
   "execution_count": null,
   "id": "0553d471",
   "metadata": {},
   "outputs": [],
   "source": [
    "# aspirin\n",
    "aspirin = Chem.MolFromSmiles('CC(=O)OC1=CC=CC=C1C(=O)O')\n",
    "aspirin"
   ]
  },
  {
   "cell_type": "markdown",
   "id": "161005dd",
   "metadata": {},
   "source": [
    "Within the `Chem` module, RDKit has various useful functions for calculating the properties of molecules, similar to the functions we wrote earlier in the module, for example, to calculate the molecular weight. We first need to import the `Descriptors` module, then we can use the `MolWt` function to calculate the molecular weight:"
   ]
  },
  {
   "cell_type": "code",
   "execution_count": null,
   "id": "4bcdd4b1",
   "metadata": {},
   "outputs": [],
   "source": [
    "from rdkit.Chem import Descriptors\n",
    "\n",
    "mw = Descriptors.MolWt(aspirin)\n",
    "print('The molecular weight of aspirin is {0:5.2f}'.format(mw))"
   ]
  },
  {
   "cell_type": "markdown",
   "id": "924177a1",
   "metadata": {},
   "source": [
    "Check that the calculated molecular weight meets your expectations, e.g. using your code from Workshop 2. Note that RDKit does not display all the hydrogen atoms in the representation above."
   ]
  },
  {
   "cell_type": "markdown",
   "id": "01a1e3f8",
   "metadata": {},
   "source": [
    "The full documentation for the `Chem` package and its subpackages is available [here](https://www.rdkit.org/docs/source/rdkit.Chem.html). As you can see, it is very extensive, and it is not possible in this workshop to explain everything that RDKit is capable of (and indeed it is changing all the time). \n",
    "\n",
    "The documentation for the `Descriptors` subpackage can be found [here](https://www.rdkit.org/docs/source/rdkit.Chem.Descriptors.html), and you can see a brief example showing how to calculate the molecular weight.\n",
    "\n",
    "By the end of this workshop, you should know enough to be able to find the method that you need yourself and (with some experimenting) get it to work:"
   ]
  },
  {
   "cell_type": "code",
   "execution_count": null,
   "id": "dc30fd6d",
   "metadata": {},
   "outputs": [],
   "source": []
  },
  {
   "cell_type": "markdown",
   "id": "12963a9a",
   "metadata": {},
   "source": [
    "**Question 2.** Use RDKit to calculate and print the number of hydrogen bond acceptors in aspirin. *[Hint: you might try searching the internet for 'rdkit hydrogen bond acceptors']*"
   ]
  },
  {
   "cell_type": "code",
   "execution_count": null,
   "id": "c7f2ce67",
   "metadata": {},
   "outputs": [],
   "source": []
  },
  {
   "cell_type": "code",
   "execution_count": null,
   "id": "afa5dd46",
   "metadata": {},
   "outputs": [],
   "source": []
  },
  {
   "cell_type": "markdown",
   "id": "edbd664c",
   "metadata": {},
   "source": [
    "At the moment there are no hydrogen atoms in our RDKit object, but we can easily add them based on the expected valences of the atoms:"
   ]
  },
  {
   "cell_type": "code",
   "execution_count": null,
   "id": "165a0c59",
   "metadata": {},
   "outputs": [],
   "source": [
    "aspirin_h = Chem.AddHs(aspirin)\n",
    "aspirin_h"
   ]
  },
  {
   "cell_type": "markdown",
   "id": "c9ca279b",
   "metadata": {},
   "source": [
    "Now that we've added hydrogens, we can go ahead and generate the 3D conformation of the molecule. Actually, this is a non-trivial task as molecules generally populate many different conformations, and the most stable one might depend on the environment. *[RDKit uses the ETKDG method, which is based on known structures of molecules from crystallographic databases. The paper describing the method is [here](https://doi.org/10.1021/acs.jcim.5b00654)].*"
   ]
  },
  {
   "cell_type": "code",
   "execution_count": null,
   "id": "aa57fe30",
   "metadata": {},
   "outputs": [],
   "source": [
    "from rdkit.Chem import AllChem\n",
    "\n",
    "AllChem.EmbedMolecule(aspirin_h)\n",
    "aspirin_h"
   ]
  },
  {
   "cell_type": "markdown",
   "id": "1f9c74fa",
   "metadata": {},
   "source": [
    "The above default display for the 3D structure of aspirin is not particularly interactive (e.g. we cannot rotate it). One alternative is to export the coordinates for viewing in another software package. The example below writes the 3D coordinates (and connectivity between the atoms) into a `sdf` file format. *[The sdf file can be opened in the software package Avogadro, which is available from the Windows Start Menu].*"
   ]
  },
  {
   "cell_type": "code",
   "execution_count": null,
   "id": "0dd7da56",
   "metadata": {},
   "outputs": [],
   "source": [
    "w = Chem.SDWriter('aspirinh.sdf')\n",
    "w.write(aspirin_h)\n",
    "# Note that this step is quite operating system dependent\n",
    "# Try uncommenting the next line if no structure is printed\n",
    "#w.close"
   ]
  },
  {
   "cell_type": "markdown",
   "id": "724aed65",
   "metadata": {},
   "source": [
    "Finally, we can also remove the hydrogens again if desired:"
   ]
  },
  {
   "cell_type": "code",
   "execution_count": null,
   "id": "d37fd191",
   "metadata": {},
   "outputs": [],
   "source": [
    "aspirin = Chem.RemoveHs(aspirin_h)"
   ]
  },
  {
   "cell_type": "code",
   "execution_count": null,
   "id": "d9e3b714",
   "metadata": {},
   "outputs": [],
   "source": []
  },
  {
   "cell_type": "code",
   "execution_count": null,
   "id": "0e635b67",
   "metadata": {},
   "outputs": [],
   "source": []
  },
  {
   "cell_type": "markdown",
   "id": "a482bf80",
   "metadata": {},
   "source": [
    "### Cheminformatics"
   ]
  },
  {
   "cell_type": "markdown",
   "id": "4900081e",
   "metadata": {},
   "source": [
    "The investigation below is based on Talktorial 2 of the [TeachOpenCADD tutorials](https://github.com/volkamerlab/teachopencadd). These are an excellent (though slightly more advanced) source of information for cheminformatics if you are interested in finding out more.\n",
    "\n",
    "Lipinksi's rule of 5 is a set of guidelines for evaluating the drug-likeness of a molecule. In particular, by looking at some simple **molecular properties**, it seeks to determine if the molecule has suitable [ADME](https://en.wikipedia.org/wiki/ADME) properties to be an orally-active drug in humans. This is based on the observation, for example, that most approved drugs are small, moderately lipophilic molecules.\n",
    "\n",
    "Lipinski's rule states that a molecule is likely to have poor ADME properties if **more than one** of the following is violated:\n",
    "\n",
    "* Molecular weight (MWT) <= 500 Da\n",
    "* Number of hydrogen bond acceptors (HBAs) <= 10\n",
    "* Number of hydrogen bond donors (HBD) <= 5\n",
    "* Calculated LogP (octanol-water partition coefficient) <= 5\n",
    "\n",
    "Note that all the thresholds are multiples of 5 (hence the name)."
   ]
  },
  {
   "cell_type": "markdown",
   "id": "387b05e2",
   "metadata": {},
   "source": [
    "Let's start by having a look at five recently approved drugs:"
   ]
  },
  {
   "cell_type": "code",
   "execution_count": null,
   "id": "6afa6a82",
   "metadata": {},
   "outputs": [],
   "source": [
    "from rdkit import Chem\n",
    "from rdkit.Chem import Descriptors\n",
    "\n",
    "smiles_list = [\n",
    "    'CC1CS(=O)(=O)CCN1N=CC2=CC=C(O2)[N+](=O)[O-]',\n",
    "    'NCC1=CC(=CC=C1)N1N=C(C=C1C(=O)NC1=CC(=CC=C1F)[C@H](NCC1CC1)C1=CC=CC(=C1)C#N)C(F)(F)F',\n",
    "    'CC(C(N[C@@H](C(N[C@@H](NC=O)CC1=CNC2=CC=CC=C21)=O)CC3=CNC4=CC=CC=C43)=O)(N)C',\n",
    "    'CC(C)NCCN(c1ccc2c(c1)nc(cn2)c3cnn(c3)C)c4cc(cc(c4)OC)OC',\n",
    "    'CC1=CC(NC2=NC(C3CCC(C(N[C@H](C4=CN=C(N5C=C(F)C=N5)C=C4)C)=O)(OC)CC3)=NC(C)=C2)=NN1'\n",
    "]\n",
    "\n",
    "names = ['Nifurtimox', 'Berotralstat', 'Macimorelin', 'Erdafitinib', 'Pralsetinib']"
   ]
  },
  {
   "cell_type": "markdown",
   "id": "f328e8f8",
   "metadata": {},
   "source": [
    "As we did for aspirin above, we can calculate and store all the molecular properties needed to determine their drug-likeness (the molecular weight, the number of hydrogen bond acceptors, the number of hydrogen bond donors and the logP). Make sure you understand how the following code block works:"
   ]
  },
  {
   "cell_type": "code",
   "execution_count": null,
   "id": "066b5dc7",
   "metadata": {},
   "outputs": [],
   "source": [
    "# initialise lists\n",
    "mol_list = []\n",
    "mw = []\n",
    "n_hac = []\n",
    "n_hdn = []\n",
    "logp = []\n",
    "\n",
    "# loop over molecules\n",
    "for smiles in smiles_list:\n",
    "    # convert smiles to mol object\n",
    "    mol = Chem.MolFromSmiles(smiles)\n",
    "    # store molecular properties in lists\n",
    "    mw.append(Descriptors.MolWt(mol))\n",
    "    n_hac.append(Descriptors.NumHAcceptors(mol))\n",
    "    n_hdn.append(Descriptors.NumHDonors(mol))\n",
    "    logp.append(Descriptors.MolLogP(mol))\n",
    "    mol_list.append(mol)\n",
    "\n",
    "#print(mw)\n",
    "for i in range(len(mol_list)):\n",
    "    print(\"The molecular weight of {0} is {1:6.2f} Da\".format(names[i],mw[i]))"
   ]
  },
  {
   "cell_type": "markdown",
   "id": "f8019616",
   "metadata": {},
   "source": [
    "And as before, we can draw the molecules in 2D, where this time we have asked to draw the molecules on a grid using the RDKit `Draw` function:"
   ]
  },
  {
   "cell_type": "code",
   "execution_count": null,
   "id": "16715371",
   "metadata": {},
   "outputs": [],
   "source": [
    "# import Draw function\n",
    "from rdkit.Chem import Draw\n",
    "\n",
    "# Draw molecules on a grid (5 per row)\n",
    "img = Draw.MolsToGridImage(mol_list, molsPerRow=5)\n",
    "img"
   ]
  },
  {
   "cell_type": "markdown",
   "id": "d7b08d4e",
   "metadata": {},
   "source": [
    "We can also label (in this case using the molecules' names) and save the images if we wish:"
   ]
  },
  {
   "cell_type": "code",
   "execution_count": null,
   "id": "30866bb2",
   "metadata": {},
   "outputs": [],
   "source": [
    "img=Draw.MolsToGridImage(mol_list, molsPerRow=5, legends=names, returnPNG=False)\n",
    "img"
   ]
  },
  {
   "cell_type": "code",
   "execution_count": null,
   "id": "ac7b614b",
   "metadata": {},
   "outputs": [],
   "source": [
    "# save image\n",
    "img.save('drugs_image.png')"
   ]
  },
  {
   "cell_type": "markdown",
   "id": "4e629b38",
   "metadata": {},
   "source": [
    "*(It's also possible to store information like this in a dataframe for ease of display and manipulation. We won't have time to cover it here, but a demonstration of the `pandas` package is available in the Appendix below.)*"
   ]
  },
  {
   "cell_type": "code",
   "execution_count": null,
   "id": "74a6b5a4",
   "metadata": {},
   "outputs": [],
   "source": []
  },
  {
   "cell_type": "markdown",
   "id": "ce9f50ff",
   "metadata": {},
   "source": [
    "**Example.** Plot a bar graph of the molecular weights of the five molecules to highlight those that fail the Lipinski molecular weight criterion."
   ]
  },
  {
   "cell_type": "markdown",
   "id": "9600c8ea",
   "metadata": {},
   "source": [
    "We can use `pylab` to plot a bar chart displaying the molecular weight (using the `names` and `mw` lists that we created above). I have added a dashed line at MW = 500 to illustrate the Lipinski threshold:"
   ]
  },
  {
   "cell_type": "code",
   "execution_count": null,
   "id": "610174ef",
   "metadata": {},
   "outputs": [],
   "source": [
    "import pylab\n",
    "\n",
    "pylab.ylabel('Molecular weight / Da')\n",
    "pylab.bar(names, mw)\n",
    "pylab.axhline(y=500, color=\"black\", linestyle=\"dashed\")"
   ]
  },
  {
   "cell_type": "markdown",
   "id": "73c70dd0",
   "metadata": {},
   "source": [
    "We can see that Berotralstat and Pralsetinib have MW above the threshold, but note that they do not necessarily fail the Lipinski test as one violation is allowed."
   ]
  },
  {
   "cell_type": "code",
   "execution_count": null,
   "id": "d953e80e",
   "metadata": {},
   "outputs": [],
   "source": []
  },
  {
   "cell_type": "markdown",
   "id": "cecc0642",
   "metadata": {},
   "source": [
    "**Question 3.** Write a function to check compliance of a molecule with Lipinski's rule of 5. The function should take as input the four molecular properties (MW, HBA, HBD, logP) and return the outcome (pass/fail). Use your function to determine which (if any) of our five molecules fails Lipinski's rule of 5."
   ]
  },
  {
   "cell_type": "code",
   "execution_count": null,
   "id": "7add4770",
   "metadata": {},
   "outputs": [],
   "source": []
  },
  {
   "cell_type": "code",
   "execution_count": null,
   "id": "1395966c",
   "metadata": {},
   "outputs": [],
   "source": []
  },
  {
   "cell_type": "markdown",
   "id": "2a7382c4",
   "metadata": {},
   "source": [
    "### Advanced Functionality"
   ]
  },
  {
   "cell_type": "markdown",
   "id": "432d1b67",
   "metadata": {},
   "source": [
    "A reminder that we should still have our five drug molecules stored in a list as RDKit objects:"
   ]
  },
  {
   "cell_type": "code",
   "execution_count": null,
   "id": "f7f01f15",
   "metadata": {},
   "outputs": [],
   "source": [
    "Draw.MolsToGridImage(mol_list, molsPerRow=5, legends=names)"
   ]
  },
  {
   "cell_type": "markdown",
   "id": "7c91d3eb",
   "metadata": {},
   "source": [
    "It can often be useful to screen our database of molecules for (un)wanted chemical functional groups. We can use the RDKit function `HasSubstructMatch` to achieve this. It scans a RDKit molecule for a given pattern, and returns True if the pattern is found. We can again use SMILES to define the pattern. Or alternatively we can use SMARTS patterns, which give more options (again don't worry about the details, but many examples are given [here](https://www.daylight.com/dayhtml_tutorials/languages/smarts/smarts_examples.html)). Try some of the pattern matching below (by (un)commenting different SMILES/SMARTS patterns) and check the outputs match your expectations."
   ]
  },
  {
   "cell_type": "code",
   "execution_count": null,
   "id": "7934713d",
   "metadata": {},
   "outputs": [],
   "source": [
    "# SMILES examples\n",
    "\n",
    "pattern_string = 'S' # contains S\n",
    "#pattern_string = 'C(=O)' # contains C=O\n",
    "\n",
    "pattern = Chem.MolFromSmiles(pattern_string)\n",
    "\n",
    "for i in range(len(mol_list)):\n",
    "    if mol_list[i].HasSubstructMatch(pattern):\n",
    "        print(\"{0} contains {1}\".format(names[i], pattern_string))"
   ]
  },
  {
   "cell_type": "code",
   "execution_count": null,
   "id": "940ea149",
   "metadata": {},
   "outputs": [],
   "source": [
    "# SMARTS examples\n",
    "\n",
    "pattern_string = '[r]' # contains any ring\n",
    "#pattern_string = '[r3]' # contains 3-membered ring\n",
    "#pattern_string = '[nX2r5]' # N in 5-sided aromatic ring\n",
    "\n",
    "pattern = Chem.MolFromSmarts(pattern_string) # contains any ring\n",
    "\n",
    "for i in range(len(mol_list)):\n",
    "    if mol_list[i].HasSubstructMatch(pattern):\n",
    "        print(\"{0} contains {1}\".format(names[i], pattern_string))"
   ]
  },
  {
   "cell_type": "code",
   "execution_count": null,
   "id": "042c19f3",
   "metadata": {},
   "outputs": [],
   "source": []
  },
  {
   "cell_type": "code",
   "execution_count": null,
   "id": "b01f707e",
   "metadata": {},
   "outputs": [],
   "source": []
  },
  {
   "cell_type": "markdown",
   "id": "9715a77d",
   "metadata": {},
   "source": [
    "The third TeachOpenCADD tutorial discusses the use of PAINS and substructure searches to filter out compounds that have a high probability of failing in clinical trials (due to likely interactions with many proteins (off-target) or ADME effects). A list of unwanted substructures is available on Canvas `unwanted_substructures.csv`.\n",
    "\n",
    "The code block below reads in the data file and displays the first few rows. As we can see, each row contains a description of the unwanted substructure, and its SMARTS pattern:"
   ]
  },
  {
   "cell_type": "code",
   "execution_count": null,
   "id": "7bd82753",
   "metadata": {},
   "outputs": [],
   "source": [
    "unwanted_substruc = []\n",
    "\n",
    "with open('unwanted_substructures.csv', 'r') as f:\n",
    "    for lines in f.readlines():\n",
    "        unwanted_substruc.append(lines.split())\n",
    "        \n",
    "for i in range(8):\n",
    "    print(unwanted_substruc[i])"
   ]
  },
  {
   "cell_type": "code",
   "execution_count": null,
   "id": "92066e81",
   "metadata": {},
   "outputs": [],
   "source": []
  },
  {
   "cell_type": "markdown",
   "id": "95cf8bdb",
   "metadata": {},
   "source": [
    "**Question 4.** Test the five molecules from above for unwanted substructures. Which molecules fail and for what reason?"
   ]
  },
  {
   "cell_type": "code",
   "execution_count": null,
   "id": "680f813b",
   "metadata": {},
   "outputs": [],
   "source": []
  },
  {
   "cell_type": "code",
   "execution_count": null,
   "id": "6c76b619",
   "metadata": {},
   "outputs": [],
   "source": []
  },
  {
   "cell_type": "markdown",
   "id": "f2677f32",
   "metadata": {},
   "source": [
    "Pictures of molecules are good for looking at the chemistry of a molecule, but less useful for performing mathematical analysis of them. A **fingerprint** is a useful means to convert a molecule into a mathematical representation (in this case, a vector) based on the substructures it contains."
   ]
  },
  {
   "cell_type": "code",
   "execution_count": null,
   "id": "55ec85d0",
   "metadata": {},
   "outputs": [],
   "source": [
    "# Let's look at beroltralstat\n",
    "mol = mol_list[1]\n",
    "mol"
   ]
  },
  {
   "cell_type": "markdown",
   "id": "8d77bc89",
   "metadata": {},
   "source": [
    "The details of the code below are beyond the scope of this Workshop (it makes use of NumPy which we'll meet in the next workshop), but you should be able to get the general idea:"
   ]
  },
  {
   "cell_type": "code",
   "execution_count": null,
   "id": "14d21138",
   "metadata": {},
   "outputs": [],
   "source": [
    "from rdkit.Chem import AllChem\n",
    "from rdkit import DataStructs\n",
    "import numpy as np\n",
    "\n",
    "bi = {}\n",
    "\n",
    "# create Morgan fingerprint (don't worry about the arguments here)\n",
    "fp1 = AllChem.GetMorganFingerprintAsBitVect(mol, radius=2, nBits=1024, bitInfo=bi)\n",
    "\n",
    "# convert to a vector so we can look at it:\n",
    "fp_array = np.zeros(1,)\n",
    "DataStructs.ConvertToNumpyArray(fp1, fp_array)\n",
    "\n",
    "# print vector (1 indicates that particular substructure is present)\n",
    "print(fp_array)\n",
    "\n",
    "# print all the positions in the vector that are non-zero\n",
    "print(np.nonzero(fp_array))"
   ]
  },
  {
   "cell_type": "markdown",
   "id": "3b0245a0",
   "metadata": {},
   "source": [
    "So the final output tells us which substructures (e.g. substructure 408) are present in the molecule. To convert the mathematical representation back into a picture, we can have a look at what substructure 408 corresponds to:"
   ]
  },
  {
   "cell_type": "code",
   "execution_count": null,
   "id": "990972c8",
   "metadata": {},
   "outputs": [],
   "source": [
    "Draw.DrawMorganBit(mol, 408, bi)"
   ]
  },
  {
   "cell_type": "markdown",
   "id": "0e8ccfd0",
   "metadata": {},
   "source": [
    "You should be able to identify this substructure in the original molecule.\n",
    "\n",
    "Let's do some maths on these molecules now. We'll start by calculating the Morgan fingerprint of one of the other drug molecules from our list:"
   ]
  },
  {
   "cell_type": "code",
   "execution_count": null,
   "id": "159adc96",
   "metadata": {},
   "outputs": [],
   "source": [
    "mol2 = mol_list[3]\n",
    "\n",
    "# calculate and store fingerprint:\n",
    "fp2 = AllChem.GetMorganFingerprintAsBitVect(mol2, 2, nBits=1024)\n",
    "# display molecule\n",
    "mol2"
   ]
  },
  {
   "cell_type": "markdown",
   "id": "7f755641",
   "metadata": {},
   "source": [
    "We now have two fingerprints (`fp1` and `fp2`) representing the two molecules. We can measure the similarity between two vectors using the **Tanimoto similarity**. This is simply the number of bits that the two vectors have in common, divided by the combined number of bits. Thus the similarity is a number between 0 (nothing in common) and 1 (identical)."
   ]
  },
  {
   "cell_type": "code",
   "execution_count": null,
   "id": "c743a7b0",
   "metadata": {},
   "outputs": [],
   "source": [
    "# print Tanimoto similarity\n",
    "\n",
    "print(DataStructs.TanimotoSimilarity(fp1,fp2))"
   ]
  },
  {
   "cell_type": "code",
   "execution_count": null,
   "id": "7f538628",
   "metadata": {},
   "outputs": [],
   "source": []
  },
  {
   "cell_type": "markdown",
   "id": "b066d2bf",
   "metadata": {},
   "source": [
    "**Example.** Calculate which two of our list of five drug molecules have the highest Tanimoto similarity."
   ]
  },
  {
   "cell_type": "code",
   "execution_count": null,
   "id": "8f1c64cf",
   "metadata": {},
   "outputs": [],
   "source": [
    "# initialise highest similarity score\n",
    "best_sim = 0\n",
    "\n",
    "# loop over five molecules\n",
    "for mol in mol_list:\n",
    "    # calculate Morgan fingerprint\n",
    "    fp1 = AllChem.GetMorganFingerprintAsBitVect(mol, 2, nBits=1024)\n",
    "    \n",
    "    # loop over the other molecules in the list\n",
    "    for mol2 in mol_list:\n",
    "        # don't calculate similarity with itself\n",
    "        if mol != mol2:\n",
    "            \n",
    "            # calculate Morgan fingerprint of 2nd molecule\n",
    "            fp2 = AllChem.GetMorganFingerprintAsBitVect(mol2, 2, nBits=1024)\n",
    "            # calculate similarity\n",
    "            sim = DataStructs.TanimotoSimilarity(fp1, fp2)\n",
    "            # store the highest similarity and the corresponding molecules\n",
    "            if (sim > best_sim):\n",
    "                best_sim = sim\n",
    "                best_mol = mol\n",
    "                best_mol2 = mol2\n",
    "                \n",
    "\n",
    "# Print similarity and draw most similar molecules\n",
    "print(\"The most similar two molecules have a similarity of {0:4.2f}\".format(sim))\n",
    "\n",
    "Draw.MolsToGridImage([best_mol, best_mol2], molsPerRow=2)    "
   ]
  },
  {
   "cell_type": "markdown",
   "id": "4f90a473",
   "metadata": {},
   "source": [
    "As you can see the two molecules are not particularly similar (a score of 1 would be identical), but this is the highest in this particular set. Methods like this are hugely useful in drug design. E.g. we may have a small molecule, which is effective at binding to a target, but may have toxicity issues. We can search huge chemical databases to find similar molecules that may not have the unwanted side effects. Fingerprinting molecules like this also forms the basis for machine learning approaches to drug discovery, which may use more complex relationships to discover patterns behind the activities of molecules."
   ]
  },
  {
   "cell_type": "code",
   "execution_count": null,
   "id": "8b765f82",
   "metadata": {},
   "outputs": [],
   "source": []
  },
  {
   "cell_type": "markdown",
   "id": "7b2b3e81",
   "metadata": {},
   "source": [
    "### Learning Outcomes\n",
    "\n",
    "In today's workshop you have:\n",
    "* Used RDKit as an example of a cheminformatics software package\n",
    "* Learned how to input/output molecules and calculate their properties\n",
    "* Seen how to compare the substructures and similarity between two molecules"
   ]
  },
  {
   "cell_type": "code",
   "execution_count": null,
   "id": "eb8d5265",
   "metadata": {},
   "outputs": [],
   "source": []
  },
  {
   "cell_type": "code",
   "execution_count": null,
   "id": "6900d556",
   "metadata": {},
   "outputs": [],
   "source": []
  },
  {
   "cell_type": "markdown",
   "id": "1514ab4a",
   "metadata": {},
   "source": [
    "### Appendix: pandas"
   ]
  },
  {
   "cell_type": "code",
   "execution_count": null,
   "id": "28834000",
   "metadata": {},
   "outputs": [],
   "source": [
    "import pandas as pd\n",
    "from rdkit.Chem import PandasTools"
   ]
  },
  {
   "cell_type": "code",
   "execution_count": null,
   "id": "625cbff7",
   "metadata": {},
   "outputs": [],
   "source": [
    "# dictionary containing data\n",
    "d = {'SMILES': smiles_list, 'Mol weight': mw}\n",
    "df = pd.DataFrame(data=d)\n",
    "df"
   ]
  },
  {
   "cell_type": "code",
   "execution_count": null,
   "id": "be48b99d",
   "metadata": {},
   "outputs": [],
   "source": [
    "PandasTools.AddMoleculeColumnToFrame(df, 'SMILES', 'Molecule')\n",
    "df"
   ]
  },
  {
   "cell_type": "code",
   "execution_count": null,
   "id": "7e5bf637",
   "metadata": {},
   "outputs": [],
   "source": []
  },
  {
   "cell_type": "code",
   "execution_count": null,
   "id": "54999509",
   "metadata": {},
   "outputs": [],
   "source": [
    "# if the molecule doesn't display may need to add the line\n",
    "PandasTools.RenderImagesInAllDataFrames(images=True)\n",
    "\n",
    "d = {'molecules': mol_list, 'Mol weight': mw, 'LogP': logp}\n",
    "df = pd.DataFrame(data=d)\n",
    "df"
   ]
  },
  {
   "cell_type": "code",
   "execution_count": null,
   "id": "4723b7f3",
   "metadata": {},
   "outputs": [],
   "source": [
    "df.sort_values(by = ['LogP'])"
   ]
  },
  {
   "cell_type": "code",
   "execution_count": null,
   "id": "a7f9a6d9",
   "metadata": {},
   "outputs": [],
   "source": []
  },
  {
   "cell_type": "code",
   "execution_count": null,
   "id": "59d617e5",
   "metadata": {},
   "outputs": [],
   "source": []
  }
 ],
 "metadata": {
  "kernelspec": {
   "display_name": "Python 3 (ipykernel)",
   "language": "python",
   "name": "python3"
  },
  "language_info": {
   "codemirror_mode": {
    "name": "ipython",
    "version": 3
   },
   "file_extension": ".py",
   "mimetype": "text/x-python",
   "name": "python",
   "nbconvert_exporter": "python",
   "pygments_lexer": "ipython3",
   "version": "3.8.6"
  }
 },
 "nbformat": 4,
 "nbformat_minor": 5
}
