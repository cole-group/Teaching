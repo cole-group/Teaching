{
 "cells": [
  {
   "cell_type": "markdown",
   "metadata": {},
   "source": [
    "## CHY1610: Introduction to Scientific Computing for Chemists\n",
    "## Dr Daniel Cole\n",
    "* Room: BEDB.2.29\n",
    "* email: daniel.cole@ncl.ac.uk"
   ]
  },
  {
   "cell_type": "markdown",
   "metadata": {},
   "source": [
    "## Frequently Asked Questions"
   ]
  },
  {
   "cell_type": "markdown",
   "metadata": {},
   "source": [
    "Before we start with Workshop 4, here are the responses to a couple of FAQs from last week:\n",
    "\n",
    "**Q1.** Is it possible to append to a string? (Recall that we have only covered appending to a list so far)."
   ]
  },
  {
   "cell_type": "code",
   "execution_count": null,
   "metadata": {},
   "outputs": [],
   "source": [
    "# Yes!\n",
    "\n",
    "string1 = \"gold\"\n",
    "string2 = \"fish\"\n",
    "string3 = string1 + string2\n",
    "print(string3)\n",
    "\n",
    "# or we can use augmented assignment as we did before for numbers:\n",
    "output = ''\n",
    "output += 'd'\n",
    "output += 'o'\n",
    "output += 'g'\n",
    "print(output)\n",
    "\n",
    "# or the same idea in a loop\n",
    "output = ''\n",
    "for input in 'cat':\n",
    "    output += input\n",
    "print(output)"
   ]
  },
  {
   "cell_type": "markdown",
   "metadata": {},
   "source": [
    "**Q2.** This wasn't really a question, but just a reminder that once a function has been successfully defined, you can use it over and over without typing it all out again (see Q4 from last week)."
   ]
  },
  {
   "cell_type": "code",
   "execution_count": null,
   "metadata": {},
   "outputs": [],
   "source": [
    "# Define function\n",
    "\n",
    "def myfunction(a, b, c):\n",
    "    \"\"\"Function to compute a + b - c. User inputs a,b,c.\"\"\"\n",
    "    value = a + b - c\n",
    "    return value\n",
    "\n",
    "# Now we can use it as often as we like, with different input arguments,\n",
    "# without altering the function code itself:\n",
    "\n",
    "print(myfunction(2,3,1))\n",
    "print(\"The result of the sum 5 + 4 - 3 is {0}\".format(myfunction(5,4,3)))\n",
    "\n",
    "# We can even use the function in loops:\n",
    "for i in range(5):\n",
    "    print(myfunction(i,4,2))\n",
    "\n",
    "# Or use in additional mathematical operations:\n",
    "print()\n",
    "newvalue = 6 - myfunction(10,6,2)\n",
    "print(\"New value is {0}\".format(newvalue))"
   ]
  },
  {
   "cell_type": "code",
   "execution_count": null,
   "metadata": {},
   "outputs": [],
   "source": []
  },
  {
   "cell_type": "markdown",
   "metadata": {},
   "source": [
    "## Workshop 4: Plotting, Errors & Computational Modelling.\n",
    "\n",
    "### Plotting\n",
    "\n",
    "Now that we know how to read and write from data files, and manipulate data using functions, we may wish to produce plots to visualise the data. You may come across the widely-used *Matplotlib* library. Matplotlib is a very flexible python library for plotting data. Here, however, we will focus on the simpler, but still effective `pylab` package:"
   ]
  },
  {
   "cell_type": "code",
   "execution_count": null,
   "metadata": {},
   "outputs": [],
   "source": [
    "import pylab"
   ]
  },
  {
   "cell_type": "markdown",
   "metadata": {},
   "source": [
    "Note that if you're **not** using the Windows virtual desktop, and the above cell results in an error, you might need to install Matplotlib on your computer (ask if you need advice)."
   ]
  },
  {
   "cell_type": "markdown",
   "metadata": {},
   "source": [
    "Let's take our data from the file `data.csv` from question 3 last week, which plots the decay in concentration of a reactant with time (if you haven't yet completed the question, either have another go or ask for help). Make sure you have copied this data file into the directory that you're working from this week before continuing."
   ]
  },
  {
   "cell_type": "code",
   "execution_count": null,
   "metadata": {},
   "outputs": [],
   "source": [
    "# create two empty lists for storing the data:\n",
    "xdata = []\n",
    "ydata = []\n",
    "\n",
    "# open the data file for reading:\n",
    "f3 = open('data.csv', 'r')\n",
    "\n",
    "# read in the data from the file:\n",
    "for line in f3.readlines():\n",
    "    fields = line.split(',') # split the string\n",
    "    xdata.append(float(fields[0])) # append the data in the 1st column to the list x\n",
    "    ydata.append(float(fields[1])) # append the data in the 2nd column to the list y\n",
    "\n",
    "f3.close()"
   ]
  },
  {
   "cell_type": "code",
   "execution_count": null,
   "metadata": {},
   "outputs": [],
   "source": [
    "pylab.plot(xdata, ydata)\n",
    "pylab.show()"
   ]
  },
  {
   "cell_type": "markdown",
   "metadata": {},
   "source": [
    "Here we have created a 2D line plot, and displayed it on the screen. The concentration is plotted on the y-axis and time is plotted on the x-axis. I'll show you how to label the axes a bit later.\n",
    "\n",
    "We can instead plot the x and y data as a scatter plot if we like (note that that in this case, there's so much data that it essentially appears as a line anyway), and save the resulting plot to a file:"
   ]
  },
  {
   "cell_type": "code",
   "execution_count": null,
   "metadata": {},
   "outputs": [],
   "source": [
    "pylab.scatter(xdata,ydata)\n",
    "## saves a pdf file to your computer \n",
    "## (can also output e.g. .png or .eps files)\n",
    "pylab.savefig('plot.pdf')"
   ]
  },
  {
   "cell_type": "markdown",
   "metadata": {},
   "source": [
    "What if we want to plot a function, such as y = sin$^{2}$x? We could generate lists of numbers to represent `x` and `y`, but it is much easier to make use of the pylab functionality. To generate a list of 11 regularly spaced x-coordinates (between -5 and 5):"
   ]
  },
  {
   "cell_type": "code",
   "execution_count": null,
   "metadata": {},
   "outputs": [],
   "source": [
    "x = pylab.linspace(-5, 5, 11)\n",
    "print(x)"
   ]
  },
  {
   "cell_type": "markdown",
   "metadata": {},
   "source": [
    "Then pylab can act on lists to create a series of y-coordinates for each x point (note that pylab here is used in place of the math library):"
   ]
  },
  {
   "cell_type": "code",
   "execution_count": null,
   "metadata": {},
   "outputs": [],
   "source": [
    "y = pylab.sin(x)**2\n",
    "print(y)"
   ]
  },
  {
   "cell_type": "code",
   "execution_count": null,
   "metadata": {},
   "outputs": [],
   "source": [
    "pylab.plot(x,y)\n",
    "pylab.show()"
   ]
  },
  {
   "cell_type": "markdown",
   "metadata": {},
   "source": [
    "Note that the function is not very well sampled. Go back and increase the number of grid points from 11, to e.g. 1001 to create a smoother plot."
   ]
  },
  {
   "cell_type": "markdown",
   "metadata": {},
   "source": [
    "We can also add further functions, legends, axis labels and style settings. Experiment with the plot below and see Chapter 3 of Hill for a full description of pylab options (note that these settings are pretty reasonable for producing easy-to-read plots for your report later):"
   ]
  },
  {
   "cell_type": "code",
   "execution_count": null,
   "metadata": {},
   "outputs": [],
   "source": [
    "import pylab\n",
    "x = pylab.linspace(0.01, 5, 1001)\n",
    "y1 = x**2\n",
    "y2 = pylab.log(x)\n",
    "pylab.plot(x, y1, label='x^2', color='red', linestyle='-', linewidth=4.)\n",
    "pylab.plot(x, y2, label='ln(x)', color='blue', linestyle='--', linewidth=4.)\n",
    "pylab.xlabel('x Label / units', fontsize='16.')\n",
    "pylab.ylabel('y Label / units', fontsize='16.')\n",
    "pylab.legend(fontsize='16.')\n",
    "pylab.show()"
   ]
  },
  {
   "cell_type": "markdown",
   "metadata": {},
   "source": [
    "You might also find the *histogram* function useful:"
   ]
  },
  {
   "cell_type": "code",
   "execution_count": null,
   "metadata": {},
   "outputs": [],
   "source": [
    "import pylab\n",
    "## Produce a histogram of data values falling within 5 equally spaced bins\n",
    "data = [36.2, 45.3, 56.3, 34.9, 37.5, 45.3, 44.2, 47.9, 39.2, 34.5, 36.2, 38.6, 41.9, 45.2, 56.3, 55.1]\n",
    "pylab.hist(data, bins=5)\n",
    "pylab.show()"
   ]
  },
  {
   "cell_type": "code",
   "execution_count": null,
   "metadata": {},
   "outputs": [],
   "source": []
  },
  {
   "cell_type": "markdown",
   "metadata": {},
   "source": [
    "**Question 1**. The interaction between two atoms can be modelled using the Lennard-Jones potential, which comprises a short-ranged repulsion at short distances (due to overlap of electron clouds) and an attractive longer-ranged interaction (due to van der Waals attraction):\n",
    "\n",
    "$U(r) = 4\\epsilon ((\\frac{\\sigma}{r})^{12} - (\\frac{\\sigma}{r})^{6})$\n",
    "\n",
    "where for an Argon atom, $\\epsilon$ = 0.185 kcal/mol and $\\sigma$ = 3.54 Å. Write a function that computes U(r) and use it to plot the interatomic potential close to typical atom-atom separation distances. \n",
    "\n",
    "Use your plot to read off the equilibrium (lowest energy) separation distance and the energy at that position. What does the energy tend to as the separation gets very large?"
   ]
  },
  {
   "cell_type": "code",
   "execution_count": null,
   "metadata": {},
   "outputs": [],
   "source": []
  },
  {
   "cell_type": "code",
   "execution_count": null,
   "metadata": {},
   "outputs": [],
   "source": []
  },
  {
   "cell_type": "code",
   "execution_count": null,
   "metadata": {},
   "outputs": [],
   "source": []
  },
  {
   "cell_type": "markdown",
   "metadata": {},
   "source": [
    "### Errors and Exceptions\n",
    "\n",
    "We have seen already in these workshops some examples of code that produce errors when run. Let's now look at the types of error that may occur, and how we can avoid them and/or handle them more cleanly.\n",
    "\n",
    "The first type of error is a *syntax error*. You have probably accidentally encountered many of these already. These are mistakes in the grammar of the python language. For example, what is wrong with the following code snippets?:"
   ]
  },
  {
   "cell_type": "code",
   "execution_count": null,
   "metadata": {},
   "outputs": [],
   "source": [
    "print((3*4/(2*4))"
   ]
  },
  {
   "cell_type": "code",
   "execution_count": null,
   "metadata": {},
   "outputs": [],
   "source": [
    "a = 3\n",
    "if a = 3:\n",
    "    print('a is equal to 3')"
   ]
  },
  {
   "cell_type": "markdown",
   "metadata": {},
   "source": [
    "In each case note that a message is produced indicating the SyntaxError, and pointing to the location of the error."
   ]
  },
  {
   "cell_type": "markdown",
   "metadata": {},
   "source": [
    "The other type of error is known as an *exception*. Exceptions are usually more serious and difficult to track down. They occur when an invalid operation is attempted, using an otherwise correct expression:"
   ]
  },
  {
   "cell_type": "code",
   "execution_count": null,
   "metadata": {},
   "outputs": [],
   "source": [
    "print(undefined_variable)"
   ]
  },
  {
   "cell_type": "code",
   "execution_count": null,
   "metadata": {},
   "outputs": [],
   "source": [
    "a, b = 0, 5\n",
    "print(b / a)"
   ]
  },
  {
   "cell_type": "markdown",
   "metadata": {},
   "source": [
    "This time the error message depends on the type of error that occurs. In the first example, we have tried to print the value of a variable that has not yet been set and in the second we are trying to divide by zero (see Table 4.1 of Hill for more types of exception).\n",
    "\n",
    "As written above, the sources of the error are quite easy to spot, but when embedded in a much longer piece of code, these errors may be harder to track down. The [Y2K bug](https://en.wikipedia.org/wiki/Year_2000_problem) was a famous example of this type of error occurring in many codes, occurring when calendars changed from the year 1999 to 2000."
   ]
  },
  {
   "cell_type": "markdown",
   "metadata": {},
   "source": [
    "Let's take our Lennard-Jones function from above, and try evaluating it at a range of different interatomic distances:"
   ]
  },
  {
   "cell_type": "code",
   "execution_count": null,
   "metadata": {},
   "outputs": [],
   "source": [
    "def lj(r):\n",
    "    u_r = (sigma/r)**12 - (sigma/r)**6\n",
    "    u_r = 4 * eps * u_r\n",
    "    return u_r\n",
    "\n",
    "sigma = 3.54 # Angstrom\n",
    "eps = 0.185 # kcal/mol\n",
    "\n",
    "for r in range (0,5):\n",
    "    print(lj(r))"
   ]
  },
  {
   "cell_type": "code",
   "execution_count": null,
   "metadata": {},
   "outputs": [],
   "source": [
    "def lj(r):\n",
    "    try:\n",
    "        u_r = (sigma/r)**12 - (sigma/r)**6\n",
    "        u_r = 4 * eps * u_r\n",
    "        return u_r\n",
    "    except ZeroDivisionError:\n",
    "        return (\"The function is undefined at r = 0\")\n",
    "\n",
    "sigma = 3.54 # Angstrom\n",
    "eps = 0.185 # kcal/mol\n",
    "    \n",
    "for r in range (0,5):\n",
    "    print(lj(r))"
   ]
  },
  {
   "cell_type": "markdown",
   "metadata": {},
   "source": [
    "This second example is called *exception handling*. It is acknowledged that there are certain situations in which the function might return an error, and this is treated more gracefully by handling the exception, then resuming operation. The `try:` clause is used for the main function, and the exception (in this case the ZeroDivisionError, but other types can be used) is raised in the `except:` clause and assigned a custom message. The execution of the code now continues after the exception."
   ]
  },
  {
   "cell_type": "code",
   "execution_count": null,
   "metadata": {},
   "outputs": [],
   "source": []
  },
  {
   "cell_type": "markdown",
   "metadata": {},
   "source": [
    "**Question 2.** Fix the code below so that it exits gracefully for both values of the input variable `var`. *(Hint: try running it first to work out what type of error you should be looking out for).*"
   ]
  },
  {
   "cell_type": "code",
   "execution_count": null,
   "metadata": {},
   "outputs": [],
   "source": [
    "var = 'hello'\n",
    "#var = 10\n",
    "\n",
    "number = int(var)\n",
    "print (\"you entered number\", number)"
   ]
  },
  {
   "cell_type": "code",
   "execution_count": null,
   "metadata": {},
   "outputs": [],
   "source": []
  },
  {
   "cell_type": "code",
   "execution_count": null,
   "metadata": {},
   "outputs": [],
   "source": []
  },
  {
   "cell_type": "markdown",
   "metadata": {},
   "source": [
    "#### Testing \n",
    "\n",
    "The best way to avoid errors is to continually test our code, not only for syntax errors but also to check that it produces the expected output. In the example below, the `calculate_distance` function calculates the distance between two points in 3D (note that c1 and c2 are both lists of length 3, representing the x,y,z coordinates). Check you understand how it works:"
   ]
  },
  {
   "cell_type": "code",
   "execution_count": null,
   "metadata": {},
   "outputs": [],
   "source": [
    "import math\n",
    "\n",
    "def calculate_distance(c1, c2):\n",
    "    \"\"\"Calculate distance in 3D between coordinates c1 and c2\n",
    "    as sqrt((x1-x2)**2+(y1-y2)**2+(z1-z2)**2\"\"\"\n",
    "    dist = 0.0\n",
    "    for i in range (3):\n",
    "        dist = dist + (c1[i] - c2[i])**2\n",
    "    return math.sqrt(dist)"
   ]
  },
  {
   "cell_type": "markdown",
   "metadata": {},
   "source": [
    "We now check the code works by writing a test for the function. For the two sets of coordinates defined below, we know what the answer should be (we expect a distance of 5.0). We therefore call the function and test whether the observed and expected results match. The `assert` keyword raises an exception if the expression is not `True`. Try introducing an error into the function above to raise an exception."
   ]
  },
  {
   "cell_type": "code",
   "execution_count": null,
   "metadata": {},
   "outputs": [],
   "source": [
    "def test_calculate_distance():\n",
    "    coord1 = [0, 0, 0]\n",
    "    coord2 = [3, 4, 0]\n",
    "    expected = 5.0\n",
    "    observed = calculate_distance(coord1, coord2)\n",
    "    assert observed == expected, 'the observed distance is not as expected'\n",
    "    \n",
    "test_calculate_distance()"
   ]
  },
  {
   "cell_type": "code",
   "execution_count": null,
   "metadata": {},
   "outputs": [],
   "source": []
  },
  {
   "cell_type": "code",
   "execution_count": null,
   "metadata": {},
   "outputs": [],
   "source": []
  },
  {
   "cell_type": "code",
   "execution_count": null,
   "metadata": {},
   "outputs": [],
   "source": []
  },
  {
   "cell_type": "markdown",
   "metadata": {},
   "source": [
    "### Computational Modelling\n",
    "\n",
    "#### Estimating $\\pi$. \n",
    "Please see the accompanying lecture material for an introduction to computational modelling and the example problem below, which aims to estimate the value of $\\pi$ by 'throwing a dart' at a circle drawn inside a square. Check that you understand the code, and can successfully run it, then answer question 3 below."
   ]
  },
  {
   "cell_type": "code",
   "execution_count": null,
   "metadata": {},
   "outputs": [],
   "source": [
    "import math\n",
    "import random\n",
    "import pylab\n",
    "\n",
    "def estimate_pi(samples): \n",
    "    ''' Estimates the value of pi by finding the ratio of the area of \n",
    "    quarter of a unit circle to the area of a unit square.\n",
    "    Input is the number of points to sample.\n",
    "    Output is the estimate of pi and x,y coordinates of sample points.\n",
    "    '''\n",
    "    # Initialise the sample count and coordinate lists\n",
    "    in_circle = 0\n",
    "    xcoords = []\n",
    "    ycoords = []\n",
    "    \n",
    "    # Loop over the number of sample points\n",
    "    for i in range(samples):\n",
    "        \n",
    "        # Assign random x,y coordinates to the point\n",
    "        # in the range 0 to 1\n",
    "        x_rand = random.random()\n",
    "        y_rand = random.random()\n",
    "        \n",
    "        # Calculate the distance from the origin\n",
    "        dist = math.sqrt(x_rand**2 + y_rand**2)\n",
    "        \n",
    "        # If the distance <= 1, the point lies in the circle\n",
    "        if dist <= 1:\n",
    "            in_circle += 1\n",
    "            xcoords.append(x_rand)\n",
    "            ycoords.append(y_rand)\n",
    "    \n",
    "    # calculate estimate of pi\n",
    "    pi = 4 * (in_circle / samples) \n",
    "    return (pi, xcoords, ycoords)\n",
    "\n",
    "# call function and assign outputs to variables\n",
    "calc_pi, xcoords, ycoords = estimate_pi(100)\n",
    "\n",
    "# print our estimate of pi\n",
    "print(\"Our estimate of pi is {0:8.4f}\".format(calc_pi))\n",
    "\n",
    "# plot the x,y coordinates of the samples in the circle\n",
    "pylab.xlabel('x coordinate', fontsize='16.')\n",
    "pylab.ylabel('y coordinate', fontsize='16.')\n",
    "pylab.scatter(xcoords,ycoords)"
   ]
  },
  {
   "cell_type": "code",
   "execution_count": null,
   "metadata": {},
   "outputs": [],
   "source": []
  },
  {
   "cell_type": "markdown",
   "metadata": {},
   "source": [
    "**Question 3.** Adapt the code above to use a `for` loop to calculate pi for a range of sample sizes (e.g. 100 to 10,000,000), and plot a graph of the estimated value of pi as a function of the number of sample points. Comment on your plot.\n",
    "\n",
    "(Hint: Use the line `pylab.xscale(\"log\")` to plot the samples on a logarithmic scale. And note that there is no need for the function `estimate_pi` to return the x and y coordinates here.)"
   ]
  },
  {
   "cell_type": "code",
   "execution_count": null,
   "metadata": {},
   "outputs": [],
   "source": []
  },
  {
   "cell_type": "code",
   "execution_count": null,
   "metadata": {},
   "outputs": [],
   "source": []
  },
  {
   "cell_type": "code",
   "execution_count": null,
   "metadata": {},
   "outputs": [],
   "source": []
  },
  {
   "cell_type": "markdown",
   "metadata": {},
   "source": [
    "### Learning outcomes"
   ]
  },
  {
   "cell_type": "markdown",
   "metadata": {},
   "source": [
    "In today's workshop, you have:\n",
    "* Learned how to plot your data using pylab;\n",
    "* Learned how to identify errors and handle exceptions;\n",
    "* Started to recognise how to build elements of a computational model."
   ]
  },
  {
   "cell_type": "code",
   "execution_count": null,
   "metadata": {},
   "outputs": [],
   "source": []
  }
 ],
 "metadata": {
  "kernelspec": {
   "display_name": "Python 3",
   "language": "python",
   "name": "python3"
  },
  "language_info": {
   "codemirror_mode": {
    "name": "ipython",
    "version": 3
   },
   "file_extension": ".py",
   "mimetype": "text/x-python",
   "name": "python",
   "nbconvert_exporter": "python",
   "pygments_lexer": "ipython3",
   "version": "3.7.6"
  }
 },
 "nbformat": 4,
 "nbformat_minor": 2
}
