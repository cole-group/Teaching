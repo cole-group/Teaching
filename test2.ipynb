{
 "cells": [
  {
   "cell_type": "code",
   "execution_count": 2,
   "metadata": {},
   "outputs": [
    {
     "data": {
      "text/plain": [
       "11"
      ]
     },
     "execution_count": 2,
     "metadata": {},
     "output_type": "execute_result"
    }
   ],
   "source": [
    "3 + 8"
   ]
  },
  {
   "cell_type": "code",
   "execution_count": 3,
   "metadata": {},
   "outputs": [
    {
     "data": {
      "text/plain": [
       "81"
      ]
     },
     "execution_count": 3,
     "metadata": {},
     "output_type": "execute_result"
    }
   ],
   "source": [
    "3**4"
   ]
  },
  {
   "cell_type": "code",
   "execution_count": 4,
   "metadata": {},
   "outputs": [
    {
     "data": {
      "text/plain": [
       "20"
      ]
     },
     "execution_count": 4,
     "metadata": {},
     "output_type": "execute_result"
    }
   ],
   "source": [
    "4*(7 - 2)"
   ]
  },
  {
   "cell_type": "code",
   "execution_count": 5,
   "metadata": {},
   "outputs": [
    {
     "name": "stdout",
     "output_type": "stream",
     "text": [
      "13\n"
     ]
    }
   ],
   "source": [
    "a = 2\n",
    "b = 11\n",
    "c = a + b\n",
    "print(c)"
   ]
  },
  {
   "cell_type": "code",
   "execution_count": 6,
   "metadata": {},
   "outputs": [
    {
     "name": "stdout",
     "output_type": "stream",
     "text": [
      "5\n",
      "5\n"
     ]
    }
   ],
   "source": [
    "# Long-hand addition\n",
    "a = 1\n",
    "a = a + 4\n",
    "print(a)\n",
    "\n",
    "# Short-hand addition\n",
    "a = 1\n",
    "a += 4\n",
    "print(a)"
   ]
  },
  {
   "cell_type": "code",
   "execution_count": 7,
   "metadata": {},
   "outputs": [
    {
     "name": "stderr",
     "output_type": "stream",
     "text": [
      "Unable to load toolkit <openforcefield.utils.toolkits.OpenEyeToolkitWrapper object at 0x7efc7fb1b278>.\n"
     ]
    },
    {
     "name": "stdout",
     "output_type": "stream",
     "text": [
      "No module named 'openeye'\n",
      "Warning: Cannot import openeye toolkit; not all functionality will be available.\n"
     ]
    }
   ],
   "source": [
    "from simtk.openmm.app import PDBFile\n",
    "from openforcefield.utils import get_data_filename"
   ]
  },
  {
   "cell_type": "code",
   "execution_count": 10,
   "metadata": {},
   "outputs": [],
   "source": [
    "# 1 molecule of ethanol and 1 of cyclohexane.\n",
    "pdb_file_path = get_data_filename('systems/test_systems/1_cyclohexane_1_ethanol.pdb')\n",
    "\n",
    "# 40%-60% cyclohexane-ethanol mixture.\n",
    "# pdb_file_path = get_data_filename('systems/packmol_boxes/cyclohexane_ethanol_0.4_0.6.pdb')\n",
    "\n",
    "pdbfile = PDBFile(pdb_file_path)"
   ]
  },
  {
   "cell_type": "code",
   "execution_count": 11,
   "metadata": {},
   "outputs": [],
   "source": [
    "from openforcefield.topology import Molecule\n",
    "ethanol = Molecule.from_smiles('CCO')\n",
    "cyclohexane = Molecule.from_smiles('C1CCCCC1')"
   ]
  },
  {
   "cell_type": "code",
   "execution_count": 12,
   "metadata": {},
   "outputs": [
    {
     "name": "stderr",
     "output_type": "stream",
     "text": [
      "In AmberToolsToolkitwrapper.computer_partial_charges_am1bcc: Molecule '' has more than one conformer, but this function will only generate charges for the first one.\n",
      "In AmberToolsToolkitwrapper.computer_partial_charges_am1bcc: Molecule '' has more than one conformer, but this function will only generate charges for the first one.\n"
     ]
    }
   ],
   "source": [
    "from openforcefield.topology import Topology\n",
    "from openforcefield.typing.engines.smirnoff import ForceField\n",
    "\n",
    "# Create the Open Force Field Topology from an OpenMM Topology object.\n",
    "omm_topology = pdbfile.topology\n",
    "off_topology = Topology.from_openmm(omm_topology, unique_molecules=[ethanol, cyclohexane])\n",
    "\n",
    "# Load the smirnof99Frosst force field.\n",
    "forcefield = ForceField('smirnoff99Frosst.offxml')\n",
    "\n",
    "# Parametrize the topology and create an OpenMM System.\n",
    "system = forcefield.create_openmm_system(off_topology)"
   ]
  },
  {
   "cell_type": "code",
   "execution_count": 13,
   "metadata": {},
   "outputs": [],
   "source": [
    "from simtk import openmm, unit\n",
    "\n",
    "# Propagate the System with Langevin dynamics.\n",
    "time_step = 2*unit.femtoseconds  # simulation timestep\n",
    "temperature = 300*unit.kelvin  # simulation temperature\n",
    "friction = 1/unit.picosecond  # collision rate\n",
    "integrator = openmm.LangevinIntegrator(temperature, friction, time_step)\n",
    "\n",
    "# Length of the simulation.\n",
    "num_steps = 1000  # number of integration steps to run\n",
    "\n",
    "# Logging options.\n",
    "trj_freq = 1  # number of steps per written trajectory frame\n",
    "data_freq = 1  # number of steps per written simulation statistics\n",
    "\n",
    "# Set up an OpenMM simulation.\n",
    "simulation = openmm.app.Simulation(omm_topology, system, integrator)\n",
    "\n",
    "# Set the initial positions.\n",
    "positions = pdbfile.getPositions() \n",
    "simulation.context.setPositions(positions)\n",
    "\n",
    "# Randomize the velocities from a Boltzmann distribution at a given temperature.\n",
    "simulation.context.setVelocitiesToTemperature(temperature)\n",
    "\n",
    "# Configure the information in the output files.\n",
    "pdb_reporter = openmm.app.PDBReporter('trajectory.pdb', trj_freq)\n",
    "state_data_reporter = openmm.app.StateDataReporter('data.csv', data_freq, step=True,\n",
    "                                                   potentialEnergy=True, temperature=True,\n",
    "                                                   density=True)\n",
    "simulation.reporters.append(pdb_reporter)\n",
    "simulation.reporters.append(state_data_reporter)"
   ]
  },
  {
   "cell_type": "code",
   "execution_count": 14,
   "metadata": {},
   "outputs": [
    {
     "name": "stdout",
     "output_type": "stream",
     "text": [
      "Starting simulation\n"
     ]
    },
    {
     "name": "stderr",
     "output_type": "stream",
     "text": [
      "/srv/conda/lib/python3.7/site-packages/ipykernel_launcher.py:4: DeprecationWarning: time.clock has been deprecated in Python 3.3 and will be removed from Python 3.8: use time.perf_counter or time.process_time instead\n",
      "  after removing the cwd from sys.path.\n"
     ]
    },
    {
     "name": "stdout",
     "output_type": "stream",
     "text": [
      "Elapsed time 19.02 seconds\n",
      "Done!\n"
     ]
    },
    {
     "name": "stderr",
     "output_type": "stream",
     "text": [
      "/srv/conda/lib/python3.7/site-packages/ipykernel_launcher.py:9: DeprecationWarning: time.clock has been deprecated in Python 3.3 and will be removed from Python 3.8: use time.perf_counter or time.process_time instead\n",
      "  if __name__ == '__main__':\n"
     ]
    }
   ],
   "source": [
    "import time\n",
    "\n",
    "print(\"Starting simulation\")\n",
    "start = time.clock()\n",
    "\n",
    "# Run the simulation\n",
    "simulation.step(num_steps)\n",
    "\n",
    "end = time.clock()\n",
    "print(\"Elapsed time %.2f seconds\" % (end-start))\n",
    "print(\"Done!\")"
   ]
  },
  {
   "cell_type": "code",
   "execution_count": null,
   "metadata": {},
   "outputs": [],
   "source": []
  }
 ],
 "metadata": {
  "kernelspec": {
   "display_name": "Python 3",
   "language": "python",
   "name": "python3"
  },
  "language_info": {
   "codemirror_mode": {
    "name": "ipython",
    "version": 3
   },
   "file_extension": ".py",
   "mimetype": "text/x-python",
   "name": "python",
   "nbconvert_exporter": "python",
   "pygments_lexer": "ipython3",
   "version": "3.7.2"
  }
 },
 "nbformat": 4,
 "nbformat_minor": 2
}
