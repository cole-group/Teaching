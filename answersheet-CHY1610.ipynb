{
 "cells": [
  {
   "cell_type": "markdown",
   "metadata": {},
   "source": [
    "# CHY1610 answer sheet (workshops 1-4)\n",
    "\n",
    "Save your answers as you go along `File > Save and Checkpoint`, and backup your file in more than one place, including on OneDrive.\n",
    "\n",
    "When you have finished, you can export the notebook as a html file to upload to Canvas `File > Download as > HTML (.html)`. You can open this file in a web browser to check it.\n",
    "\n",
    "As usual, it is your responsibility to save your data and ensure it is in the right format for handing in."
   ]
  },
  {
   "cell_type": "markdown",
   "metadata": {},
   "source": [
    "## Workshop 1"
   ]
  },
  {
   "cell_type": "markdown",
   "metadata": {},
   "source": [
    "**Question 1.** Describe what effect the `abs` and `round` functions have on positive and negative integers and floating point numbers. Illustrate your answer with some code examples."
   ]
  },
  {
   "cell_type": "markdown",
   "metadata": {},
   "source": [
    "NB This is a markdown cell. You can type text into here. The cells below are code cells, you can enter code into these. See Appendix A of Workshop 1 for more information."
   ]
  },
  {
   "cell_type": "code",
   "execution_count": null,
   "metadata": {},
   "outputs": [],
   "source": []
  },
  {
   "cell_type": "code",
   "execution_count": null,
   "metadata": {},
   "outputs": [],
   "source": []
  },
  {
   "cell_type": "markdown",
   "metadata": {},
   "source": [
    "**Question 2.** Write some code that prints the following output `My age is 65`."
   ]
  },
  {
   "cell_type": "code",
   "execution_count": null,
   "metadata": {},
   "outputs": [],
   "source": []
  },
  {
   "cell_type": "code",
   "execution_count": null,
   "metadata": {},
   "outputs": [],
   "source": []
  },
  {
   "cell_type": "code",
   "execution_count": null,
   "metadata": {},
   "outputs": [],
   "source": []
  },
  {
   "cell_type": "markdown",
   "metadata": {},
   "source": [
    "**Question 3.** I have 28 mL of a solution and 5 test tubes. I want to use as much solution as possible, and I want each test tube to have the same (integer) mL of solution. What volume of solution do I have left after sharing it out? Write some code to calculate the answer."
   ]
  },
  {
   "cell_type": "code",
   "execution_count": null,
   "metadata": {},
   "outputs": [],
   "source": []
  },
  {
   "cell_type": "code",
   "execution_count": null,
   "metadata": {},
   "outputs": [],
   "source": []
  },
  {
   "cell_type": "code",
   "execution_count": null,
   "metadata": {},
   "outputs": [],
   "source": []
  },
  {
   "cell_type": "markdown",
   "metadata": {},
   "source": [
    "**Question 4**. A spherical cannon ball weighs 3kg. If the density of the metal is 7.874 g/cm$^3$, calculate its volume (in cm$^3$). Insert your code in the cell below."
   ]
  },
  {
   "cell_type": "code",
   "execution_count": null,
   "metadata": {},
   "outputs": [],
   "source": [
    "print (\"The volume of the cannon ball is\",  )"
   ]
  },
  {
   "cell_type": "code",
   "execution_count": null,
   "metadata": {},
   "outputs": [],
   "source": []
  },
  {
   "cell_type": "code",
   "execution_count": null,
   "metadata": {},
   "outputs": [],
   "source": []
  },
  {
   "cell_type": "markdown",
   "metadata": {},
   "source": [
    "**Question 5**. The concentration of H$^+$ ions in a sample of vinegar is 1.26 x 10$^{-3}$ M. What is the pH of the solution?"
   ]
  },
  {
   "cell_type": "code",
   "execution_count": null,
   "metadata": {},
   "outputs": [],
   "source": [
    "import math\n",
    "print(\"The pH is\", )"
   ]
  },
  {
   "cell_type": "code",
   "execution_count": null,
   "metadata": {},
   "outputs": [],
   "source": []
  },
  {
   "cell_type": "code",
   "execution_count": null,
   "metadata": {},
   "outputs": [],
   "source": []
  },
  {
   "cell_type": "markdown",
   "metadata": {},
   "source": [
    "**Question 6.** Using a similar calculation to the example in the Workshop notebook, find the molality of 2.5M sulphuric acid (H$_2$SO$_4$). The density is 1.25 g/cm$^3$."
   ]
  },
  {
   "cell_type": "code",
   "execution_count": null,
   "metadata": {},
   "outputs": [],
   "source": []
  },
  {
   "cell_type": "code",
   "execution_count": null,
   "metadata": {},
   "outputs": [],
   "source": []
  },
  {
   "cell_type": "code",
   "execution_count": null,
   "metadata": {},
   "outputs": [],
   "source": []
  },
  {
   "cell_type": "markdown",
   "metadata": {},
   "source": [
    "**Question 7.** Predict the result of the following expression, and then check it using Python. Give the result of the calculation and explain why the result is as it is.\n",
    "```\n",
    "4 < 2 or 10 % 4 < 3\n",
    "```"
   ]
  },
  {
   "cell_type": "code",
   "execution_count": null,
   "metadata": {},
   "outputs": [],
   "source": []
  },
  {
   "cell_type": "code",
   "execution_count": null,
   "metadata": {},
   "outputs": [],
   "source": []
  },
  {
   "cell_type": "code",
   "execution_count": null,
   "metadata": {},
   "outputs": [],
   "source": []
  },
  {
   "cell_type": "markdown",
   "metadata": {},
   "source": [
    "## Workshop 2"
   ]
  },
  {
   "cell_type": "markdown",
   "metadata": {},
   "source": [
    "**Question 1.** In the cell below, insert a string, which when printed gives the following output:\n",
    "\n",
    "```The Bohr radius is equal to:\n",
    "0.529 Å```"
   ]
  },
  {
   "cell_type": "code",
   "execution_count": null,
   "metadata": {},
   "outputs": [],
   "source": [
    "mystring1 = \"\"\n",
    "print(mystring1)"
   ]
  },
  {
   "cell_type": "code",
   "execution_count": null,
   "metadata": {},
   "outputs": [],
   "source": []
  },
  {
   "cell_type": "code",
   "execution_count": null,
   "metadata": {},
   "outputs": [],
   "source": []
  },
  {
   "cell_type": "markdown",
   "metadata": {},
   "source": [
    "**Question 2.** In the cell below, insert a string, which when printed gives the following output:\n",
    "```\n",
    "1.\tA mixture of Zn, HgCl2, H2O, and conc. HCl was stirred for 20 min. \n",
    "2.\tThe aqueous layer was decanted and rinsed with water.```"
   ]
  },
  {
   "cell_type": "code",
   "execution_count": null,
   "metadata": {},
   "outputs": [],
   "source": [
    "mystring2 = \"\"\"\n",
    "\"\"\"\n",
    "print(mystring2)"
   ]
  },
  {
   "cell_type": "code",
   "execution_count": null,
   "metadata": {},
   "outputs": [],
   "source": []
  },
  {
   "cell_type": "code",
   "execution_count": null,
   "metadata": {},
   "outputs": [],
   "source": []
  },
  {
   "cell_type": "markdown",
   "metadata": {},
   "source": [
    "**Question 3.** Slice the following string to produce the output `MTWTFSS`."
   ]
  },
  {
   "cell_type": "code",
   "execution_count": null,
   "metadata": {},
   "outputs": [],
   "source": [
    "daysofweek = 'Mon, Tue, Wed, Thu, Fri, Sat, Sun'\n",
    "print()"
   ]
  },
  {
   "cell_type": "code",
   "execution_count": null,
   "metadata": {},
   "outputs": [],
   "source": []
  },
  {
   "cell_type": "code",
   "execution_count": null,
   "metadata": {},
   "outputs": [],
   "source": []
  },
  {
   "cell_type": "markdown",
   "metadata": {},
   "source": [
    "**Question 4.** A ball of mass 4.4 kg is travelling with speed 2.23 m/s. What is the ball's kinetic energy? Print out your answer to 2 decimal places, including units."
   ]
  },
  {
   "cell_type": "code",
   "execution_count": null,
   "metadata": {},
   "outputs": [],
   "source": [
    "m = 4.4 # kg\n",
    "v = 2.23 # m/s\n",
    "ke = 0.5 * m * v**2\n",
    "print()"
   ]
  },
  {
   "cell_type": "code",
   "execution_count": null,
   "metadata": {},
   "outputs": [],
   "source": []
  },
  {
   "cell_type": "code",
   "execution_count": null,
   "metadata": {},
   "outputs": [],
   "source": []
  },
  {
   "cell_type": "markdown",
   "metadata": {},
   "source": [
    "**Question 5.** Use an *analytical* equation to calculate the expected concentration of A after 10 seconds (see accompanying lecture). Enter your *analytical* expression in the cell below (make sure your answer is printed to 4 d.p.). Does your value agree with the numerical result above? Change the time step in the above example code to `timestep = 1` second. What happens to the numerical result and why? In the above expression for the range `int(tot_time / timestep)`, why is the `int()` function required?"
   ]
  },
  {
   "cell_type": "code",
   "execution_count": null,
   "metadata": {},
   "outputs": [],
   "source": []
  },
  {
   "cell_type": "code",
   "execution_count": null,
   "metadata": {},
   "outputs": [],
   "source": []
  },
  {
   "cell_type": "code",
   "execution_count": null,
   "metadata": {},
   "outputs": [],
   "source": []
  },
  {
   "cell_type": "markdown",
   "metadata": {},
   "source": [
    "## Workshop 3"
   ]
  },
  {
   "cell_type": "markdown",
   "metadata": {},
   "source": [
    "**Question 1.** Edit the code below to allow for a walk on any day of the weekend (not just Saturday)."
   ]
  },
  {
   "cell_type": "code",
   "execution_count": null,
   "metadata": {},
   "outputs": [],
   "source": [
    "raining = True\n",
    "day = \"Sunday\"\n",
    "temperature = 22\n",
    "\n",
    "if day == \"Saturday\" and (temperature > 15 or not raining):\n",
    "    print(\"Go for a walk\")\n",
    "else:\n",
    "    print(\"Stay indoors\")"
   ]
  },
  {
   "cell_type": "code",
   "execution_count": null,
   "metadata": {},
   "outputs": [],
   "source": []
  },
  {
   "cell_type": "code",
   "execution_count": null,
   "metadata": {},
   "outputs": [],
   "source": []
  },
  {
   "cell_type": "markdown",
   "metadata": {},
   "source": [
    "**Question 2.** Here is a random DNA sequence, what is the complementary DNA sequence? (The complementary bases are A,T and C,G). Include a warning to be output if the string contains any erroneous bases (i.e. not a, t, c, or g). The output should be formatted in the same way, i.e. no spaces or line breaks (see week 2 for the use of `end=''`) ```cttaccctatagtatgtctaggcagttagctgtctaccatgccgcagacttatcagttcgactgcttcgagctggttaggaaagctacaccgtgtccgcg```\n",
    "*(Hint: you can loop over the characters of a string, just as you would for a list).*"
   ]
  },
  {
   "cell_type": "code",
   "execution_count": null,
   "metadata": {},
   "outputs": [],
   "source": []
  },
  {
   "cell_type": "code",
   "execution_count": null,
   "metadata": {},
   "outputs": [],
   "source": []
  },
  {
   "cell_type": "code",
   "execution_count": null,
   "metadata": {},
   "outputs": [],
   "source": []
  },
  {
   "cell_type": "markdown",
   "metadata": {},
   "source": [
    "**Question 3.** Change the code above to instead write the concentration `conc_a` and time (in seconds) to a file every 10 time steps. *(Hints: You will need to move the `print` statement inside the `for` loop, think about how to calculate the time from the step counter `i`, and use the `%` mathematical operator).*"
   ]
  },
  {
   "cell_type": "code",
   "execution_count": null,
   "metadata": {},
   "outputs": [],
   "source": []
  },
  {
   "cell_type": "code",
   "execution_count": null,
   "metadata": {},
   "outputs": [],
   "source": []
  },
  {
   "cell_type": "code",
   "execution_count": null,
   "metadata": {},
   "outputs": [],
   "source": []
  },
  {
   "cell_type": "markdown",
   "metadata": {},
   "source": [
    "**Question 4.** Use the function below to calculate the equilibrium constant for the reaction:\n",
    "\n",
    "$$2\\text{H}_2\\text{(g)} + \\text{O}_2\\text{(g)} \\rightarrow 2\\text{H}_2\\text{O(g)} $$\n",
    "\n",
    "from the following data:\n",
    "\n",
    "| Component | $\\Delta_fH$ / kJmol$^{-1}$ | $S$ / kJmol$^{-1}$K$^{-1}$ |\n",
    "| --- | --- | --- |\n",
    "| O$_2$ | 0 | 0.2050 |\n",
    "| H$_2$ | 0 | 0.1307 |\n",
    "| H$_2$O | -241.8 | 0.1888 |\n",
    "\n",
    "Make use of a loop to perform your calculation at five different temperatures (300K, 310K, 320K, 330K, 340K). *(Hint: I have included comments in the cell below to help you).*\n",
    "\n"
   ]
  },
  {
   "cell_type": "code",
   "execution_count": null,
   "metadata": {},
   "outputs": [],
   "source": [
    "def equilibrium_constant(deltaH_products, deltaH_reactants, S_products, S_reactants, T):\n",
    "    \"\"\"Return equilibrium constant from enthalpy/entropy of \n",
    "    reactants/products at given temperature\"\"\"\n",
    "    deltaH = deltaH_products - deltaH_reactants\n",
    "    deltaS = S_products - S_reactants\n",
    "    Gibbs_free_energy = deltaH - T * deltaS\n",
    "    K = math.exp(-1.0 * Gibbs_free_energy/(R * T))\n",
    "    return K"
   ]
  },
  {
   "cell_type": "code",
   "execution_count": null,
   "metadata": {},
   "outputs": [],
   "source": [
    "import math\n",
    "\n",
    "# define global variable (universal gas constant):\n",
    "\n",
    "\n",
    "# calculate total enthalpy & entropy changes\n",
    "# of reactants and products (remember that we \n",
    "# need 2 moles of H2 and H2O for every mole of O2):\n",
    "\n",
    "\n",
    "# use a loop to calculate K at 5 different temperatures:\n",
    "\n"
   ]
  },
  {
   "cell_type": "code",
   "execution_count": null,
   "metadata": {},
   "outputs": [],
   "source": []
  },
  {
   "cell_type": "code",
   "execution_count": null,
   "metadata": {},
   "outputs": [],
   "source": []
  },
  {
   "cell_type": "markdown",
   "metadata": {},
   "source": [
    "## Workshop 4"
   ]
  },
  {
   "cell_type": "markdown",
   "metadata": {},
   "source": [
    "**Question 1**. The interaction between two atoms can be modelled using the Lennard-Jones potential, which comprises a short-ranged repulsion at short distances (due to overlap of electron clouds) and an attractive longer-ranged interaction (due to van der Waals attraction):\n",
    "\n",
    "$U(r) = 4\\epsilon ((\\frac{\\sigma}{r})^{12} - (\\frac{\\sigma}{r})^{6})$\n",
    "\n",
    "where for an Argon atom, $\\epsilon$ = 0.185 kcal/mol and $\\sigma$ = 3.54 Å. Write a function that computes U(r) and use it to plot the interatomic potential close to typical atom-atom separation distances. \n",
    "\n",
    "Use your plot to read off the equilibrium (lowest energy) separation distance and the energy at that position. What does the energy tend to as the separation gets very large?"
   ]
  },
  {
   "cell_type": "code",
   "execution_count": null,
   "metadata": {},
   "outputs": [],
   "source": []
  },
  {
   "cell_type": "code",
   "execution_count": null,
   "metadata": {},
   "outputs": [],
   "source": []
  },
  {
   "cell_type": "code",
   "execution_count": null,
   "metadata": {},
   "outputs": [],
   "source": []
  },
  {
   "cell_type": "markdown",
   "metadata": {},
   "source": [
    "**Question 2.** Fix the code below so that it exits gracefully for both values of the input variable `var`. *(Hint: try running it first to work out what type of error you should be looking out for).*"
   ]
  },
  {
   "cell_type": "code",
   "execution_count": null,
   "metadata": {},
   "outputs": [],
   "source": [
    "var = 'hello'\n",
    "#var = 10\n",
    "\n",
    "number = int(var)\n",
    "print (\"you entered number\", number)"
   ]
  },
  {
   "cell_type": "code",
   "execution_count": null,
   "metadata": {},
   "outputs": [],
   "source": []
  },
  {
   "cell_type": "code",
   "execution_count": null,
   "metadata": {},
   "outputs": [],
   "source": []
  },
  {
   "cell_type": "markdown",
   "metadata": {},
   "source": [
    "**Question 3.** Adapt the code above to use a `for` loop to calculate pi for a range of sample sizes (e.g. 100 to 10,000,000), and plot a graph of the estimated value of pi as a function of the number of sample points. Comment on your plot.\n",
    "\n",
    "(Hint: Use the line `pylab.xscale(\"log\")` to plot the samples on a logarithmic scale. And note that there is no need for the function `estimate_pi` to return the x and y coordinates here.)"
   ]
  },
  {
   "cell_type": "code",
   "execution_count": null,
   "metadata": {},
   "outputs": [],
   "source": []
  },
  {
   "cell_type": "code",
   "execution_count": null,
   "metadata": {},
   "outputs": [],
   "source": []
  },
  {
   "cell_type": "code",
   "execution_count": null,
   "metadata": {},
   "outputs": [],
   "source": []
  }
 ],
 "metadata": {
  "kernelspec": {
   "display_name": "Python 3",
   "language": "python",
   "name": "python3"
  },
  "language_info": {
   "codemirror_mode": {
    "name": "ipython",
    "version": 3
   },
   "file_extension": ".py",
   "mimetype": "text/x-python",
   "name": "python",
   "nbconvert_exporter": "python",
   "pygments_lexer": "ipython3",
   "version": "3.7.6"
  }
 },
 "nbformat": 4,
 "nbformat_minor": 4
}
